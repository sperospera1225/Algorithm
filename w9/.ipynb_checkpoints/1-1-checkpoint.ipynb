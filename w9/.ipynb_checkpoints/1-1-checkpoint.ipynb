{
 "cells": [
  {
   "cell_type": "code",
   "execution_count": 40,
   "metadata": {},
   "outputs": [
    {
     "data": {
      "text/plain": [
       "480"
      ]
     },
     "execution_count": 40,
     "metadata": {},
     "output_type": "execute_result"
    }
   ],
   "source": [
    "class Solution:\n",
    "    def subsetXORSum(self, nums) -> int:       \n",
    "        answer = 0\n",
    "        for i in range(1<<len(nums)):\n",
    "            temp = []\n",
    "            for j in range(len(nums)):\n",
    "                if i & (1<<j):\n",
    "                    temp.append(nums[j])\n",
    "            if len(temp) == 0:\n",
    "                continue\n",
    "            ans = temp[0]\n",
    "            for t in range(1, len(temp)):\n",
    "                ans ^= temp[t]\n",
    "            answer += ans\n",
    "        return answer\n",
    "\n",
    "s = Solution()\n",
    "s.subsetXORSum([4,5,6,7,8,9])"
   ]
  },
  {
   "cell_type": "code",
   "execution_count": null,
   "metadata": {},
   "outputs": [],
   "source": []
  }
 ],
 "metadata": {
  "kernelspec": {
   "display_name": "Python 3",
   "language": "python",
   "name": "python3"
  },
  "language_info": {
   "codemirror_mode": {
    "name": "ipython",
    "version": 3
   },
   "file_extension": ".py",
   "mimetype": "text/x-python",
   "name": "python",
   "nbconvert_exporter": "python",
   "pygments_lexer": "ipython3",
   "version": "3.7.6"
  }
 },
 "nbformat": 4,
 "nbformat_minor": 4
}
