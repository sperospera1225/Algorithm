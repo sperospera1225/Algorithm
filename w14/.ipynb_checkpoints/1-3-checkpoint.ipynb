{
 "cells": [
  {
   "cell_type": "code",
   "execution_count": 15,
   "id": "edb31361",
   "metadata": {},
   "outputs": [],
   "source": [
    "class Solution:\n",
    "    def maxPoints(self, points) -> int:\n",
    "        prevRow = points[0]\n",
    "        for i in range(1,len(points)):\n",
    "            res, curr = 0, 0\n",
    "            temp = prevRow[:]\n",
    "            # Here we are doing sightseeing from the left to right side and storing the maximum value.\n",
    "            # Keep in mind that the maximum from the previous is decreasing by 1 on every right move\n",
    "            # Simultaneously we are updating the prevRow\n",
    "            for j in range(len(points[0])):\n",
    "                res = points[i][j] + max(temp[j], curr - 1)\n",
    "                curr = max(curr-1, temp[j])\n",
    "                temp[j] = res\n",
    "            res, curr = 0, 0\n",
    "            # Here we are doing sightseeing from the right to left side and storing the maximum value.\n",
    "            # Keep in mind that the maximum from the previous is decreasing by 1 on every left move\n",
    "            # Simultaneously we are updating the prevRow\n",
    "            for j in range(len(points[0])-1, -1, -1):\n",
    "                res = arr[i][j] + max(prevRow[j], curr - 1)\n",
    "                curr = max(curr-1, prevRow[j])\n",
    "                prevRow[j] = max(temp[j], res)\n",
    "        return max(prevRow)"
   ]
  },
  {
   "cell_type": "code",
   "execution_count": 12,
   "id": "4b8d37bb",
   "metadata": {},
   "outputs": [],
   "source": [
    "points = [[1,2,3],[1,5,1],[3,1,1]]\n",
    "prevRow = points[0]"
   ]
  },
  {
   "cell_type": "code",
   "execution_count": 17,
   "id": "2392fa90",
   "metadata": {},
   "outputs": [
    {
     "name": "stdout",
     "output_type": "stream",
     "text": [
      "[2, 7, 4]\n",
      "[4, 3, 4]\n"
     ]
    }
   ],
   "source": [
    "for i in range(1,len(points)):\n",
    "    res, curr = 0, 0\n",
    "    temp = prevRow[:]\n",
    "    for j in range(len(points[0])):\n",
    "        res = points[i][j] + max(temp[j], curr - 1)\n",
    "        curr = max(curr-1, temp[j])\n",
    "        temp[j] = res\n",
    "    print(temp)"
   ]
  },
  {
   "cell_type": "code",
   "execution_count": null,
   "id": "f173162e",
   "metadata": {},
   "outputs": [],
   "source": []
  }
 ],
 "metadata": {
  "kernelspec": {
   "display_name": "Python 3",
   "language": "python",
   "name": "python3"
  },
  "language_info": {
   "codemirror_mode": {
    "name": "ipython",
    "version": 3
   },
   "file_extension": ".py",
   "mimetype": "text/x-python",
   "name": "python",
   "nbconvert_exporter": "python",
   "pygments_lexer": "ipython3",
   "version": "3.7.7"
  }
 },
 "nbformat": 4,
 "nbformat_minor": 5
}
