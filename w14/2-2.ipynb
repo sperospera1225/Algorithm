{
 "cells": [
  {
   "cell_type": "code",
   "execution_count": 5,
   "id": "f593af90",
   "metadata": {},
   "outputs": [],
   "source": [
    "## 정규표현식이용 -> 시간초과"
   ]
  },
  {
   "cell_type": "code",
   "execution_count": 8,
   "id": "19f36390",
   "metadata": {},
   "outputs": [],
   "source": [
    "import re\n",
    "\n",
    "def solution(words, queries):\n",
    "    answer = []\n",
    "    queries = list(map(lambda x: x.replace('?', '.'), queries))\n",
    "    \n",
    "    for query in queries:\n",
    "        cnt = 0\n",
    "        q = re.compile(query)\n",
    "        for word in words:\n",
    "            if q.match(word) and len(word) == len(query):\n",
    "                cnt += 1\n",
    "        answer.append(cnt)\n",
    "    return answer"
   ]
  },
  {
   "cell_type": "code",
   "execution_count": 9,
   "id": "bb7fb455",
   "metadata": {},
   "outputs": [],
   "source": [
    "# Trie 사용\n",
    "# https://codingffler.tistory.com/24 참고"
   ]
  },
  {
   "cell_type": "code",
   "execution_count": 11,
   "id": "1ad6a8c6",
   "metadata": {},
   "outputs": [],
   "source": [
    "from collections import deque\n",
    "''' https://en.wikipedia.org/wiki/Trie '''\n",
    "\n",
    "class Node(object):\n",
    "    def __init__(self, key, data=None):\n",
    "        self.key = key\n",
    "        self.count = 0\n",
    "        self.children = {}\n",
    "\n",
    "class Trie:\n",
    "    def __init__(self):\n",
    "        self.head = Node(self)\n",
    "\n",
    "    def insert(self, string):\n",
    "        current_node = self.head\n",
    "\n",
    "        for char in string:\n",
    "            curr_node.count += 1\n",
    "            if char not in current_node.children:\n",
    "                current_node.children[char] = Node(char)\n",
    "            current_node = current_node.children[char]\n",
    "        current_node.count += 1\n",
    "\n",
    "    def starts_with(self, prefix):\n",
    "        current_node = self.head\n",
    "        result = 0\n",
    "\n",
    "        for char in prefix:\n",
    "            if char == '?':\n",
    "                break\n",
    "            if char in curr_node.children:\n",
    "                curr_node = curr_node.children[char]\n",
    "            else:\n",
    "                return 0\n",
    "        return curr_node.count"
   ]
  },
  {
   "cell_type": "code",
   "execution_count": 12,
   "id": "071810d9",
   "metadata": {},
   "outputs": [],
   "source": [
    "def solution(words, queries):\n",
    "    answer = []\n",
    "    tries = {}\n",
    "    reverse_tries = {}\n",
    "    \n",
    "    for word in words:\n",
    "        if len(word) in tries:\n",
    "            tries[len(word)].insert(word)\n",
    "            reverse_tries[len(word)].insert(reversed(word))\n",
    "        else:\n",
    "            trie = Trie()\n",
    "            reverse_trie = Trie()\n",
    "            \n",
    "            trie.insert(word)\n",
    "            reverse_trie.insert(reversed(word))\n",
    "            \n",
    "            tries[len(word)] = trie\n",
    "            reverse_tries[len(word)] = reverse_trie\n",
    "    \n",
    "    for query in queries:\n",
    "        if len(query) in tries:\n",
    "            if query[0] != '?':\n",
    "                trie = tries[len(query)]\n",
    "                answer.append(trie.starts_with(query))\n",
    "            else:\n",
    "                trie = reverse_tries[len(query)]\n",
    "                answer.append(trie.starts_with(reversed(query)))\n",
    "        else:\n",
    "            answer.append(0)\n",
    "    return answer"
   ]
  },
  {
   "cell_type": "code",
   "execution_count": null,
   "id": "40568448",
   "metadata": {},
   "outputs": [],
   "source": []
  }
 ],
 "metadata": {
  "kernelspec": {
   "display_name": "pycharm2020",
   "language": "python",
   "name": "pycharm2020"
  },
  "language_info": {
   "codemirror_mode": {
    "name": "ipython",
    "version": 3
   },
   "file_extension": ".py",
   "mimetype": "text/x-python",
   "name": "python",
   "nbconvert_exporter": "python",
   "pygments_lexer": "ipython3",
   "version": "3.7.7"
  }
 },
 "nbformat": 4,
 "nbformat_minor": 5
}
