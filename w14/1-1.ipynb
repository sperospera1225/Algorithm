{
 "cells": [
  {
   "cell_type": "code",
   "execution_count": 3,
   "id": "91d6aab6",
   "metadata": {},
   "outputs": [],
   "source": [
    "class Solution:\n",
    "    def canBeTypedWords(self, text: str, brokenLetters: str) -> int:\n",
    "        arr = text.split()\n",
    "        mnw = len(arr)\n",
    "        for s in arr:\n",
    "            for c in s:\n",
    "                if c in brokenLetters:\n",
    "                    mnw -= 1\n",
    "                    break\n",
    "        return mnw"
   ]
  },
  {
   "cell_type": "code",
   "execution_count": 4,
   "id": "675d8349",
   "metadata": {},
   "outputs": [
    {
     "data": {
      "text/plain": [
       "1"
      ]
     },
     "execution_count": 4,
     "metadata": {},
     "output_type": "execute_result"
    }
   ],
   "source": [
    "s = Solution()\n",
    "s.canBeTypedWords(text = \"hello world\", brokenLetters = \"ad\")"
   ]
  },
  {
   "cell_type": "code",
   "execution_count": 5,
   "id": "bba9135f",
   "metadata": {},
   "outputs": [
    {
     "data": {
      "text/plain": [
       "1"
      ]
     },
     "execution_count": 5,
     "metadata": {},
     "output_type": "execute_result"
    }
   ],
   "source": [
    "s = Solution()\n",
    "s.canBeTypedWords(text = \"leet code\", brokenLetters = \"lt\")"
   ]
  },
  {
   "cell_type": "code",
   "execution_count": null,
   "id": "4d3d9d28",
   "metadata": {},
   "outputs": [],
   "source": []
  }
 ],
 "metadata": {
  "kernelspec": {
   "display_name": "Python 3",
   "language": "python",
   "name": "python3"
  },
  "language_info": {
   "codemirror_mode": {
    "name": "ipython",
    "version": 3
   },
   "file_extension": ".py",
   "mimetype": "text/x-python",
   "name": "python",
   "nbconvert_exporter": "python",
   "pygments_lexer": "ipython3",
   "version": "3.7.7"
  }
 },
 "nbformat": 4,
 "nbformat_minor": 5
}
