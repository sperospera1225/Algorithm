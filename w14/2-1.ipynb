{
 "cells": [
  {
   "cell_type": "code",
   "execution_count": 54,
   "id": "513b706c",
   "metadata": {},
   "outputs": [],
   "source": [
    "def solution(food_times, k):\n",
    "    idx = 0\n",
    "    time = 0\n",
    "    cnt = 0\n",
    "    length = len(food_times)\n",
    "    while True:\n",
    "        if food_times[idx%length] != 0:\n",
    "            food_times[idx%length] -= 1\n",
    "        else:\n",
    "            idx += 1\n",
    "            cnt += 1\n",
    "            if cnt == length:\n",
    "                return -1\n",
    "            continue\n",
    "        cnt = 0\n",
    "        print(food_times, time, idx)\n",
    "        if time == k:\n",
    "            return (idx%length)+1\n",
    "        time += 1\n",
    "        idx += 1\n",
    "    return -1"
   ]
  },
  {
   "cell_type": "code",
   "execution_count": 55,
   "id": "d20adacf",
   "metadata": {},
   "outputs": [
    {
     "name": "stdout",
     "output_type": "stream",
     "text": [
      "[2, 1, 2] 0 0\n",
      "[2, 0, 2] 1 1\n",
      "[2, 0, 1] 2 2\n",
      "[1, 0, 1] 3 3\n",
      "[1, 0, 0] 4 5\n",
      "[0, 0, 0] 5 6\n"
     ]
    },
    {
     "data": {
      "text/plain": [
       "1"
      ]
     },
     "execution_count": 55,
     "metadata": {},
     "output_type": "execute_result"
    }
   ],
   "source": [
    "solution([3,1,2], 5)"
   ]
  },
  {
   "cell_type": "code",
   "execution_count": 1,
   "id": "14ba11c7",
   "metadata": {},
   "outputs": [],
   "source": [
    "## 단축이 필요한 부분? -> 시간!"
   ]
  },
  {
   "cell_type": "code",
   "execution_count": null,
   "id": "6242e80e",
   "metadata": {},
   "outputs": [],
   "source": []
  }
 ],
 "metadata": {
  "kernelspec": {
   "display_name": "pycharm2020",
   "language": "python",
   "name": "pycharm2020"
  },
  "language_info": {
   "codemirror_mode": {
    "name": "ipython",
    "version": 3
   },
   "file_extension": ".py",
   "mimetype": "text/x-python",
   "name": "python",
   "nbconvert_exporter": "python",
   "pygments_lexer": "ipython3",
   "version": "3.7.7"
  }
 },
 "nbformat": 4,
 "nbformat_minor": 5
}
