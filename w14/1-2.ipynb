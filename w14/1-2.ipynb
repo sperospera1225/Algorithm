{
 "cells": [
  {
   "cell_type": "code",
   "execution_count": 15,
   "id": "273287c4",
   "metadata": {},
   "outputs": [],
   "source": [
    "class Solution:\n",
    "    def addRungs(self, rungs, dist) -> int:\n",
    "        answer = 0\n",
    "        if rungs[0] > dist:\n",
    "            answer += rungs[0]//dist\n",
    "        for i in range(1, len(rungs)):\n",
    "            if rungs[i-1] < rungs[i] - dist:\n",
    "                answer += (rungs[i]-rungs[i-1])//dist\n",
    "        return answer"
   ]
  },
  {
   "cell_type": "code",
   "execution_count": 16,
   "id": "ed274ce3",
   "metadata": {},
   "outputs": [
    {
     "data": {
      "text/plain": [
       "1"
      ]
     },
     "execution_count": 16,
     "metadata": {},
     "output_type": "execute_result"
    }
   ],
   "source": [
    "s = Solution()\n",
    "s.addRungs(rungs = [3,4,6,7], dist = 2)"
   ]
  },
  {
   "cell_type": "code",
   "execution_count": 17,
   "id": "5c0a783a",
   "metadata": {},
   "outputs": [
    {
     "data": {
      "text/plain": [
       "2"
      ]
     },
     "execution_count": 17,
     "metadata": {},
     "output_type": "execute_result"
    }
   ],
   "source": [
    "s = Solution()\n",
    "s.addRungs(rungs = [1,3,5,10], dist = 2)"
   ]
  },
  {
   "cell_type": "code",
   "execution_count": 18,
   "id": "ed2ff99a",
   "metadata": {},
   "outputs": [
    {
     "data": {
      "text/plain": [
       "3"
      ]
     },
     "execution_count": 18,
     "metadata": {},
     "output_type": "execute_result"
    }
   ],
   "source": [
    "s = Solution()\n",
    "s.addRungs(rungs = [3], dist = 1)"
   ]
  },
  {
   "cell_type": "code",
   "execution_count": 21,
   "id": "de8e5784",
   "metadata": {},
   "outputs": [
    {
     "data": {
      "text/plain": [
       "5"
      ]
     },
     "execution_count": 21,
     "metadata": {},
     "output_type": "execute_result"
    }
   ],
   "source": [
    "rungs = [3]\n",
    "dist = 1\n",
    "rungs[0]//dist"
   ]
  },
  {
   "cell_type": "code",
   "execution_count": null,
   "id": "3296f5b8",
   "metadata": {},
   "outputs": [],
   "source": []
  }
 ],
 "metadata": {
  "kernelspec": {
   "display_name": "Python 3",
   "language": "python",
   "name": "python3"
  },
  "language_info": {
   "codemirror_mode": {
    "name": "ipython",
    "version": 3
   },
   "file_extension": ".py",
   "mimetype": "text/x-python",
   "name": "python",
   "nbconvert_exporter": "python",
   "pygments_lexer": "ipython3",
   "version": "3.7.7"
  }
 },
 "nbformat": 4,
 "nbformat_minor": 5
}
