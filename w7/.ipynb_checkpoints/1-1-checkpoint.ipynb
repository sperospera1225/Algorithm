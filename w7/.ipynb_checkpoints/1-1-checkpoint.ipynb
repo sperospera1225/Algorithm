{
 "cells": [
  {
   "cell_type": "code",
   "execution_count": 8,
   "metadata": {},
   "outputs": [
    {
     "data": {
      "text/plain": [
       "1993"
      ]
     },
     "execution_count": 8,
     "metadata": {},
     "output_type": "execute_result"
    }
   ],
   "source": [
    "class Solution:\n",
    "    def maximumPopulation(self, logs) -> int:\n",
    "        min_year, max_year = 10000, 0\n",
    "        dic = {}\n",
    "        \n",
    "        for l in logs:\n",
    "            if l[0] in dic:\n",
    "                dic[l[0]]+=1\n",
    "            else:\n",
    "                dic[l[0]]=1\n",
    "            if l[1] in dic:\n",
    "                dic[l[1]]-=1\n",
    "            else:\n",
    "                dic[l[1]]=-1\n",
    "            min_year, max_year = min(min_year, l[0]), max(max_year, l[1])\n",
    "         \n",
    "        b, maxb = 0,0\n",
    "        for i in range(min_year, max_year+1):\n",
    "            if i in dic:\n",
    "                b+=dic[i]\n",
    "            if b>maxb:\n",
    "                maxb = b\n",
    "                res = i\n",
    "        return res\n",
    "        \n",
    "s = Solution()\n",
    "s.maximumPopulation([[1993,1999],[2000,2010]])"
   ]
  },
  {
   "cell_type": "code",
   "execution_count": null,
   "metadata": {},
   "outputs": [],
   "source": []
  }
 ],
 "metadata": {
  "kernelspec": {
   "display_name": "Python 3",
   "language": "python",
   "name": "python3"
  },
  "language_info": {
   "codemirror_mode": {
    "name": "ipython",
    "version": 3
   },
   "file_extension": ".py",
   "mimetype": "text/x-python",
   "name": "python",
   "nbconvert_exporter": "python",
   "pygments_lexer": "ipython3",
   "version": "3.7.6"
  }
 },
 "nbformat": 4,
 "nbformat_minor": 4
}
