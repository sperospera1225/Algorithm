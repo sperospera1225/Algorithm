{
 "cells": [
  {
   "cell_type": "code",
   "execution_count": 2,
   "metadata": {},
   "outputs": [
    {
     "name": "stdout",
     "output_type": "stream",
     "text": [
      "3\n",
      "1\n",
      "1\n",
      "2\n",
      "1\n",
      "5\n",
      "2\n"
     ]
    }
   ],
   "source": [
    "import heapq\n",
    "\n",
    "n = int(input())\n",
    "minhq=[]\n",
    "maxhq=[]\n",
    "\n",
    "for _ in range(n):\n",
    "    x=int(input())\n",
    "    if len(minhq)==len(maxhq):\n",
    "        heapq.heappush(maxhq,-x)\n",
    "    else:\n",
    "        heapq.heappush(minhq,x)\n",
    "\n",
    "    if minhq and minhq[0]<-maxhq[0]:\n",
    "        mx=-heapq.heappop(maxhq)\n",
    "        mn=heapq.heappop(minhq)\n",
    "        heapq.heappush(maxhq,-mn)\n",
    "        heapq.heappush(minhq,mx)\n",
    "    print(-maxhq[0])\n"
   ]
  },
  {
   "cell_type": "code",
   "execution_count": null,
   "metadata": {},
   "outputs": [],
   "source": []
  },
  {
   "cell_type": "code",
   "execution_count": null,
   "metadata": {},
   "outputs": [],
   "source": []
  }
 ],
 "metadata": {
  "kernelspec": {
   "display_name": "Python 3",
   "language": "python",
   "name": "python3"
  },
  "language_info": {
   "codemirror_mode": {
    "name": "ipython",
    "version": 3
   },
   "file_extension": ".py",
   "mimetype": "text/x-python",
   "name": "python",
   "nbconvert_exporter": "python",
   "pygments_lexer": "ipython3",
   "version": "3.7.6"
  }
 },
 "nbformat": 4,
 "nbformat_minor": 4
}
