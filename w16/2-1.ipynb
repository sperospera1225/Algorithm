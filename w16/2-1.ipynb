{
 "cells": [
  {
   "cell_type": "code",
   "execution_count": 20,
   "id": "80b4c428",
   "metadata": {
    "scrolled": true
   },
   "outputs": [
    {
     "name": "stdout",
     "output_type": "stream",
     "text": [
      "{'2'}\n",
      "{'2'}\n",
      "{'2'}\n",
      "{'1', '2'}\n",
      "{'1'}\n",
      "{'1', '2'}\n",
      "{'1', '3', '2'}\n",
      "{'3'}\n",
      "{'1', '3', '2'}\n",
      "{'4', '1', '3', '2'}\n",
      "{'4'}\n",
      "{'4', '1', '3', '2'}\n"
     ]
    },
    {
     "data": {
      "text/plain": [
       "[2, 1, 3, 4]"
      ]
     },
     "execution_count": 20,
     "metadata": {},
     "output_type": "execute_result"
    }
   ],
   "source": [
    "def solution(s):\n",
    "    s = s[2:-2].split(\"},{\")\n",
    "    sorted_arr = []\n",
    "    for i in range(len(s)):\n",
    "        tmp = s[i].split(\",\")\n",
    "        sorted_arr.append(set(tmp))\n",
    " \n",
    "    sorted_arr.sort(key=lambda x: len(x))\n",
    "    ans = set()\n",
    "    answer = []\n",
    "    for a in sorted_arr:\n",
    "        print(a)\n",
    "        tmp = a - ans\n",
    "        print(tmp)\n",
    "        answer.append(int(list(tmp)[0]))\n",
    "        ans = ans | tmp\n",
    "        print(ans)\n",
    "    return answer\n",
    "\n",
    "solution(\"{{2},{2,1},{2,1,3},{2,1,3,4}}\")"
   ]
  },
  {
   "cell_type": "code",
   "execution_count": null,
   "id": "a0e49039",
   "metadata": {},
   "outputs": [],
   "source": []
  }
 ],
 "metadata": {
  "kernelspec": {
   "display_name": "Python 3",
   "language": "python",
   "name": "python3"
  },
  "language_info": {
   "codemirror_mode": {
    "name": "ipython",
    "version": 3
   },
   "file_extension": ".py",
   "mimetype": "text/x-python",
   "name": "python",
   "nbconvert_exporter": "python",
   "pygments_lexer": "ipython3",
   "version": "3.7.7"
  }
 },
 "nbformat": 4,
 "nbformat_minor": 5
}
