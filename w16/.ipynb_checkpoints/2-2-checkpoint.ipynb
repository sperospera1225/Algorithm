{
 "cells": [
  {
   "cell_type": "code",
   "execution_count": 7,
   "id": "c9352228",
   "metadata": {},
   "outputs": [
    {
     "name": "stdout",
     "output_type": "stream",
     "text": [
      "[1, 3, 4, 2, 5, 6]\n"
     ]
    }
   ],
   "source": [
    "def solution(k, room_number):\n",
    "    answer = []\n",
    "    room = [i+1 for i in range(k)] # 전체 방 번호(방이 이미 배정된 상태이면 -1으로 표시)\n",
    "    \n",
    "    for i in room_number: # 고객이 원하는 방 번호 탐색\n",
    "        for j in range(i-1, len(room)): # 전체 방 번호의 인덱스 탐색\n",
    "            if room[j] != -1: # 방이 배정되지 않았다면\n",
    "                answer.append(j+1) # 방을 배정하고\n",
    "                room[j] = -1 # 배정된 방을 0으로 표시\n",
    "                break\n",
    "    return answer\n",
    "            \n",
    "print(solution(10, [1,3,4,1,3,1]))"
   ]
  },
  {
   "cell_type": "code",
   "execution_count": 15,
   "id": "cb459e07",
   "metadata": {},
   "outputs": [
    {
     "name": "stdout",
     "output_type": "stream",
     "text": [
      "1\n",
      "{1: 2}\n",
      "3\n",
      "{1: 2, 3: 4}\n",
      "4\n",
      "{1: 2, 3: 4, 4: 5}\n",
      "1\n",
      "1 ddddddd\n",
      "2 aaaaaaaaaaaaaaa\n",
      "{1: 3, 3: 4, 4: 5, 2: 3}\n",
      "3\n",
      "3 ddddddd\n",
      "4 aaaaaaaaaaaaaaa\n",
      "4 ddddddd\n",
      "5 aaaaaaaaaaaaaaa\n",
      "{1: 3, 3: 6, 4: 6, 2: 3, 5: 6}\n",
      "1\n",
      "1 ddddddd\n",
      "3 aaaaaaaaaaaaaaa\n",
      "3 ddddddd\n",
      "6 aaaaaaaaaaaaaaa\n",
      "{1: 7, 3: 7, 4: 6, 2: 3, 5: 6, 6: 7}\n",
      "[1, 3, 4, 2, 5, 6]\n"
     ]
    }
   ],
   "source": [
    "def solution(k, room_number):\n",
    "    answer = []\n",
    "    room = dict()\n",
    "    \n",
    "    for num in room_number: # 고객이 원하는 방 번호 탐색\n",
    "        print(num)\n",
    "        visit = [num] # 탐색한 방 번호 기록\n",
    "        while num in room: # room에 방 번호(num) 정보가 있으면 이미 배정된 방이다\n",
    "            print(num,'ddddddd')\n",
    "            num = room[num] # 부모노드로 이동\n",
    "            print(num, 'aaaaaaaaaaaaaaa')\n",
    "            visit.append(num) # 탐색한 방 번호 기록\n",
    "        answer.append(num) # while문을 빠져나오면 비어있는 방이므로 방 배정\n",
    "        for i in visit: # 탐색한 방 번호의 부모노드는 모두 배정되었으므로 num+1해준다\n",
    "            room[i] = num+1\n",
    "        print(room)\n",
    "\n",
    "    return answer\n",
    "\n",
    "print(solution(10, [1,3,4,1,3,1]))"
   ]
  },
  {
   "cell_type": "code",
   "execution_count": null,
   "id": "e428de21",
   "metadata": {},
   "outputs": [],
   "source": []
  }
 ],
 "metadata": {
  "kernelspec": {
   "display_name": "Python 3",
   "language": "python",
   "name": "python3"
  },
  "language_info": {
   "codemirror_mode": {
    "name": "ipython",
    "version": 3
   },
   "file_extension": ".py",
   "mimetype": "text/x-python",
   "name": "python",
   "nbconvert_exporter": "python",
   "pygments_lexer": "ipython3",
   "version": "3.7.7"
  }
 },
 "nbformat": 4,
 "nbformat_minor": 5
}
