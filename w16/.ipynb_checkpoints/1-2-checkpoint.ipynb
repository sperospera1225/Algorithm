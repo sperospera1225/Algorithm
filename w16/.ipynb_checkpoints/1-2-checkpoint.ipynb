{
 "cells": [
  {
   "cell_type": "code",
   "execution_count": 31,
   "id": "331d0aa0",
   "metadata": {},
   "outputs": [
    {
     "data": {
      "text/plain": [
       "'000'"
      ]
     },
     "execution_count": 31,
     "metadata": {},
     "output_type": "execute_result"
    }
   ],
   "source": [
    "class Solution:\n",
    "    def findDifferentBinaryString(self, nums):\n",
    "        length = len(nums[1])\n",
    "        if len(nums) == 2**length:\n",
    "            return\n",
    "        tmp = []\n",
    "        for i in range(len(nums)):\n",
    "            tmp.append(int(nums[i],2))\n",
    "        for i in range(2**length):\n",
    "            if i not in tmp:\n",
    "                a = len(bin(i)[2:])\n",
    "                return '0'*(length-a)+bin(i)[2:]\n",
    "s = Solution()\n",
    "s.findDifferentBinaryString([\"111\",\"011\",\"001\"])"
   ]
  },
  {
   "cell_type": "code",
   "execution_count": null,
   "id": "aaa94889",
   "metadata": {},
   "outputs": [],
   "source": [
    "class Trie:\n",
    "    def __init__(self, val):\n",
    "        self.val = val\n",
    "        self.children = {}\n",
    "        self.is_word = False\n",
    "        \n",
    "class Solution:\n",
    "    def __init__(self):\n",
    "        self.ans = \"\"\n",
    "        \n",
    "    def find_word(self, root, curr):\n",
    "        if(not root or not root.children or len(self.ans) > 0):\n",
    "            return\n",
    "        \n",
    "        if(len(root.children) != 2):\n",
    "            x = list(root.children.keys())[0]\n",
    "            \n",
    "            if(root.children[x].val == \"0\"):\n",
    "                self.ans = curr + \"1\"\n",
    "            else:\n",
    "                self.ans = curr + \"0\"\n",
    "            \n",
    "            self.found = True\n",
    "            return\n",
    "            \n",
    "        for x in root.children:\n",
    "            self.find_word(root.children[x], curr + x)\n",
    "    \n",
    "    def findDifferentBinaryString(self, nums: List[str]) -> str:\n",
    "        length = len(nums)\n",
    "        trie = Trie(\" \")\n",
    "        \n",
    "        for num in nums:\n",
    "            curr = trie\n",
    "            \n",
    "            for n in num:\n",
    "                if(n not in curr.children):\n",
    "                    curr.children[n] = Trie(n)\n",
    "                    \n",
    "                curr = curr.children[n]\n",
    "                \n",
    "            curr.is_word = True\n",
    "            \n",
    "        self.find_word(trie, \"\")\n",
    "        \n",
    "        for i in range(len(self.ans), length):\n",
    "            self.ans += \"1\"\n",
    "            \n",
    "        return self.ans"
   ]
  }
 ],
 "metadata": {
  "kernelspec": {
   "display_name": "Python 3",
   "language": "python",
   "name": "python3"
  },
  "language_info": {
   "codemirror_mode": {
    "name": "ipython",
    "version": 3
   },
   "file_extension": ".py",
   "mimetype": "text/x-python",
   "name": "python",
   "nbconvert_exporter": "python",
   "pygments_lexer": "ipython3",
   "version": "3.7.7"
  }
 },
 "nbformat": 4,
 "nbformat_minor": 5
}
