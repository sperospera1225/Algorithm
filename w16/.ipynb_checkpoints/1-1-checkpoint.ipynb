{
 "cells": [
  {
   "cell_type": "code",
   "execution_count": 8,
   "id": "e95a95f5",
   "metadata": {},
   "outputs": [
    {
     "name": "stdout",
     "output_type": "stream",
     "text": [
      "2 1 0\n",
      "None\n"
     ]
    }
   ],
   "source": [
    "class Solution:\n",
    "    def findGCD(self, nums):\n",
    "        tmp_smallest = 1001\n",
    "        tmp_largest = 0\n",
    "        for i in range(len(nums)):\n",
    "            if tmp_smallest > nums[i]:\n",
    "                tmp_smallest = nums[i]\n",
    "            elif tmp_largest < nums[i]:\n",
    "                tmp_largest = nums[i]\n",
    "        for i in range(tmp_largest, 0, -1):\n",
    "            if tmp_smallest%i==0 and tmp_largest%i==0:\n",
    "                return i\n",
    "s = Solution()\n",
    "print(s.findGCD([7,5,6,8,3]))"
   ]
  },
  {
   "cell_type": "code",
   "execution_count": null,
   "id": "da98a74c",
   "metadata": {},
   "outputs": [],
   "source": []
  }
 ],
 "metadata": {
  "kernelspec": {
   "display_name": "Python 3",
   "language": "python",
   "name": "python3"
  },
  "language_info": {
   "codemirror_mode": {
    "name": "ipython",
    "version": 3
   },
   "file_extension": ".py",
   "mimetype": "text/x-python",
   "name": "python",
   "nbconvert_exporter": "python",
   "pygments_lexer": "ipython3",
   "version": "3.7.7"
  }
 },
 "nbformat": 4,
 "nbformat_minor": 5
}
