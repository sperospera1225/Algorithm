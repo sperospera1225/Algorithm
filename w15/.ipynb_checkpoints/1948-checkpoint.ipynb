{
 "cells": [
  {
   "cell_type": "markdown",
   "id": "33146034",
   "metadata": {},
   "source": [
    "### https://leetcode.com/contest/weekly-contest-251/problems/delete-duplicate-folders-in-system/"
   ]
  },
  {
   "cell_type": "code",
   "execution_count": null,
   "id": "9074160e",
   "metadata": {},
   "outputs": [],
   "source": []
  }
 ],
 "metadata": {
  "kernelspec": {
   "display_name": "pycharm2020",
   "language": "python",
   "name": "pycharm2020"
  },
  "language_info": {
   "codemirror_mode": {
    "name": "ipython",
    "version": 3
   },
   "file_extension": ".py",
   "mimetype": "text/x-python",
   "name": "python",
   "nbconvert_exporter": "python",
   "pygments_lexer": "ipython3",
   "version": "3.7.7"
  }
 },
 "nbformat": 4,
 "nbformat_minor": 5
}
