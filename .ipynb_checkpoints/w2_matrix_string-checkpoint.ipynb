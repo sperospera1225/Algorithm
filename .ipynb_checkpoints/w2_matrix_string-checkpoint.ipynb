{
 "cells": [
  {
   "cell_type": "code",
   "execution_count": null,
   "metadata": {},
   "outputs": [],
   "source": [
    "# 1)  행렬 회전 :  NxN 행렬이 있다. 이 행렬을 오른쪽으로 90도, 180도, 270도 회전시키는 코드를 작성하라.\n",
    "\n",
    "def rotate_90(m):\n",
    "    matrix_a = [[0]*len(m) for _ in range(len(m))]\n",
    "    # [[0]*len(m)]*len(m)을 쓰며는 대입연산시 얕은복사로 인한 모든열이 바뀜\n",
    "    # for문을 활용하자\n",
    "    for i in range(len(m)):\n",
    "        for j in range(len(m)):\n",
    "            # print(m[i][j], j, len(m)-1-i)\n",
    "            matrix_a[j][len(m)-1-i] = m[i][j]\n",
    "    return matrix_a\n",
    "\n",
    "def rotate_180(m):\n",
    "    matrix_b = [[0] * len(m) for _ in range(len(m))]\n",
    "    for i in range(len(m)):\n",
    "        for j in range(len(m)):\n",
    "            matrix_b[len(m) - 1 - i][len(m) - 1 - j] = m[i][j]\n",
    "    return matrix_b\n",
    "\n",
    "def rotate_270(m):\n",
    "    matrix_c = [[0] * len(m) for _ in range(len(m))]\n",
    "    for i in range(len(m)):\n",
    "        for j in range(len(m)):\n",
    "            matrix_c[len(m) - 1 - j][i] = m[i][j]\n",
    "    return matrix_c\n",
    "\n",
    "if __name__=='__main__':\n",
    "    n = int(input())\n",
    "    field = [[int(x) for x in input().split()] for i in range(n)]\n",
    "    print(rotate_90(field))\n",
    "    print(rotate_180(field))\n",
    "    print(rotate_270(field))"
   ]
  },
  {
   "cell_type": "code",
   "execution_count": null,
   "metadata": {},
   "outputs": [],
   "source": [
    "# 2)  문자열 회전 : 한 단어가 다른 문자열에 포함되어 있는지 판별하는 isSubstring이라는 메서드가 있다고 치자. s1 과 s2 두 문자열이 주어지고, s2가 s1을 회전시킨 결과인지 판별하고자 한다.\n",
    "# ex) ‘waterbottle’ 은 ‘erbottlewat’ 을 회전시켜서 얻을 수 있는 문자열이다.\n",
    "\n",
    "def string_rotation(s1, s2):\n",
    "    if (len(s1) == len(s2) and len(s1)>0):\n",
    "        s2s2 = s2+s2\n",
    "        if s2s2.find(s1) >= 0:\n",
    "            print(\"True\")\n",
    "        else:\n",
    "            print(\"False\")\n",
    "    else:\n",
    "        print(\"False\")\n",
    "\n",
    "if __name__=='__main__':\n",
    "    s1_input, s2_input = map(str,input().split(' '))\n",
    "    string_rotation(s1_input, s2_input)\n"
   ]
  },
  {
   "cell_type": "code",
   "execution_count": 7,
   "metadata": {},
   "outputs": [
    {
     "name": "stdout",
     "output_type": "stream",
     "text": [
      "5\n"
     ]
    }
   ],
   "source": [
    "# 3) https://leetcode.com/explore/learn/card/fun-with-arrays/526/deleting-items-from-an-array/3248/\n",
    "\n",
    "'''\n",
    "Given a sorted array nums, remove the duplicates in-place such that each element appears only once and returns the new length.\n",
    "Do not allocate extra space for another array, you must do this by modifying the input array in-place with O(1) extra memory.\n",
    "'''\n",
    "\n",
    "class Solution:\n",
    "    def removeDuplicates(self, nums):\n",
    "        \"\"\"\n",
    "        :type nums: List[int]\n",
    "        :rtype: int\n",
    "        \"\"\"\n",
    "        \n",
    "        ptr = 1\n",
    "        if len(nums)==0:\n",
    "            return 0\n",
    "        for i in range(1,len(nums)):\n",
    "            if nums[i-1] != nums[i]:\n",
    "                nums[ptr] = nums[i]\n",
    "                ptr +=1\n",
    "        return ptr\n",
    "    \n",
    "if __name__=='__main__':\n",
    "    s = Solution()\n",
    "    print(s.removeDuplicates([0,0,1,1,1,2,2,3,3,4]))"
   ]
  },
  {
   "cell_type": "code",
   "execution_count": 33,
   "metadata": {},
   "outputs": [
    {
     "name": "stdout",
     "output_type": "stream",
     "text": [
      "2\n"
     ]
    }
   ],
   "source": [
    "# 4) https://leetcode.com/explore/learn/card/fun-with-arrays/523/conclusion/3231/\n",
    "\n",
    "'''\n",
    "Given integer array nums, return the third maximum number in this array. If the third maximum does not exist, return the maximum number.\n",
    "'''\n",
    "class Solution:\n",
    "    def thirdMax(self, nums) -> int:\n",
    "        nums = list(set(nums)) \n",
    "        nums = list(sorted(nums, reverse=True)) \n",
    "        if len(nums) < 3: \n",
    "            answer = nums[0] \n",
    "        else: \n",
    "            answer = nums[2] \n",
    "        return answer\n",
    "\n",
    "import heapq\n",
    "    \n",
    "class Solution2:\n",
    "    def thirdMax(self, nums) -> int:\n",
    "        q = []\n",
    "        result = 0\n",
    "        \n",
    "        for num in nums:\n",
    "            if -num not in q:\n",
    "                heapq.heappush(q, -num)\n",
    "        \n",
    "        if len(q) < 3:\n",
    "            temp = [-num for num in q]\n",
    "            return max(temp)\n",
    "        \n",
    "        for _ in range(3):\n",
    "            result = heapq.heappop(q)\n",
    "        return -result\n",
    "    \n",
    "if __name__=='__main__':\n",
    "    s = Solution2()\n",
    "    print(s.thirdMax([1,2]))"
   ]
  },
  {
   "cell_type": "code",
   "execution_count": null,
   "metadata": {},
   "outputs": [],
   "source": []
  },
  {
   "cell_type": "code",
   "execution_count": null,
   "metadata": {},
   "outputs": [],
   "source": []
  }
 ],
 "metadata": {
  "kernelspec": {
   "display_name": "Python 3",
   "language": "python",
   "name": "python3"
  },
  "language_info": {
   "codemirror_mode": {
    "name": "ipython",
    "version": 3
   },
   "file_extension": ".py",
   "mimetype": "text/x-python",
   "name": "python",
   "nbconvert_exporter": "python",
   "pygments_lexer": "ipython3",
   "version": "3.7.6"
  }
 },
 "nbformat": 4,
 "nbformat_minor": 4
}
