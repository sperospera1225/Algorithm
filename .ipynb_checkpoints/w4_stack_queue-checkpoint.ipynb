{
 "cells": [
  {
   "cell_type": "code",
   "execution_count": null,
   "metadata": {},
   "outputs": [],
   "source": [
    "# 1) 스택 Min : 기본적인 push 기능과 pop 기능이 구현된 스택에서 최솟값을 반환하는 min 함수를 추가하려고 한다. \n",
    "# 어떻게 설계할 수 있겠는가? push, pop, min 연산은 모두 O(1) 시간에 동작해야 한다.\n",
    "\n",
    "class Stack():\n",
    "    stack = list()\n",
    "    min_stack = list()\n",
    "    \n",
    "    def push(self, number):\n",
    "        self.stack.append(number)\n",
    "        if not self.minStack or self.minStack[-1] > x: # minStack이 비어있거나, 새로 들어온 데이터가 minStack의 Top값보다 작으면\n",
    "            self.minStack.append(x) # min 값 업데이트 (minStack에 push)\n",
    "        \n",
    "    def pop(self):\n",
    "        self.stack.pop()\n",
    "        if self.min_stack[-1]:\n",
    "            self.min_stack.pop()\n",
    "            \n",
    "    def min(self):\n",
    "        if not self.minStack: # minStack 이 비어있으면 return None\n",
    "            return None\n",
    "        return self.minStack[-1] # minStack 의 top 값        "
   ]
  },
  {
   "cell_type": "code",
   "execution_count": null,
   "metadata": {},
   "outputs": [],
   "source": [
    "# 2) 스택으로 큐 : 스택 두 개로 큐 하나를 구현한 MyQueue 클래스를 구현하라.\n",
    "class MyQueue():\n",
    "    stack1 = list()\n",
    "    stack2 = list()\n",
    "\n",
    "    def inQueue(self, item):\n",
    "        self.stack1.append(item)\n",
    "    def outQueue(self):\n",
    "        if self.stack2:\n",
    "            while not self.stack1:\n",
    "                self.stack2.append(self.stack1.pop())\n",
    "        return self.stack2.pop()"
   ]
  },
  {
   "cell_type": "code",
   "execution_count": 3,
   "metadata": {},
   "outputs": [],
   "source": [
    "# 3) 스택 정렬 : 가장 작은 값이 위로 오도록 스택을 정렬하는 프로그램을 작성하라. \n",
    "# 추가적으로 하나 정도의 스택은 사용해도 괜찮지만, 스택에 보관된 요소를 배열 등의 다른 자료구조로 복사할 수는 없다. \n",
    "# 스택은 push, pop, peek, isEmpty의 네 가지 연산을 제공해야 한다.\n",
    "class Stack():\n",
    "    def __init__(self):\n",
    "        self.data = []\n",
    "\n",
    "    def push(self, x):\n",
    "        self.data.append(x)\n",
    "\n",
    "    def pop(self):\n",
    "        if self.isEmpty():\n",
    "            raise EmptyStackError\n",
    "        else:\n",
    "            return self.data.pop()\n",
    "\n",
    "    def peek(self):\n",
    "        if self.isEmpty():\n",
    "            raise EmptyStackError\n",
    "        else:\n",
    "            return self.data[-1]\n",
    "\n",
    "    def isEmpty(self):\n",
    "        return len(self.data) == 0\n",
    "    \n",
    "    def stackSort(stack):\n",
    "        stack_t = Stack()\n",
    "        while not stack.isEmpty():\n",
    "            tmp = stack.pop()\n",
    "            \n",
    "            if not stack_t.isEmpty() and tmp >= stack_t.peek():\n",
    "                stack_t.push(tmp)\n",
    "            else:\n",
    "                while not stack_t.isEmpty() and stack_t.peek() > tmp:\n",
    "                    stack.push(stack_t.pop())\n",
    "                stack_t.push(tmp)"
   ]
  },
  {
   "cell_type": "code",
   "execution_count": null,
   "metadata": {},
   "outputs": [],
   "source": [
    "# 4) https://www.acmicpc.net/problem/2504\n"
   ]
  },
  {
   "cell_type": "code",
   "execution_count": null,
   "metadata": {},
   "outputs": [],
   "source": [
    "# 5) https://www.acmicpc.net/problem/10799\n",
    "\n",
    "'''\n",
    "1. '(' 이면 push\n",
    "2. '()' 이면 pop, 레이저에 의해서 쇠막대기 있는거 다 한번씩 잘림. 즉 조각 개수 stack에 들어있는 '('의 개수만큼 더해줌\n",
    "3. ')' 이면 pop, 그냥 쇠막대기 하나가 끝났다는 뜻이니까 1만큼만 더해줌\n",
    "'''\n",
    "\n",
    "pipe = list(input())\n",
    "result = 0\n",
    "stack = []\n",
    "\n",
    "for i in range(len(pipe)):\n",
    "    if pipe[i] == '(':\n",
    "        stack.append('(')\n",
    "    elif pipe[i] == ')':\n",
    "        if pipe[i - 1] == '(':\n",
    "            stack.pop()\n",
    "            result += len(stack)\n",
    "        else:\n",
    "            stack.pop()\n",
    "            result += 1\n",
    "            \n",
    "print(result)"
   ]
  }
 ],
 "metadata": {
  "kernelspec": {
   "display_name": "Python 3",
   "language": "python",
   "name": "python3"
  },
  "language_info": {
   "codemirror_mode": {
    "name": "ipython",
    "version": 3
   },
   "file_extension": ".py",
   "mimetype": "text/x-python",
   "name": "python",
   "nbconvert_exporter": "python",
   "pygments_lexer": "ipython3",
   "version": "3.7.6"
  }
 },
 "nbformat": 4,
 "nbformat_minor": 4
}
