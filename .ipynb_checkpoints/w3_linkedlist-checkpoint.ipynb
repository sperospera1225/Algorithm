{
 "cells": [
  {
   "cell_type": "code",
   "execution_count": null,
   "metadata": {},
   "outputs": [],
   "source": [
    "# 1)  Single Linked List 구현"
   ]
  },
  {
   "cell_type": "code",
   "execution_count": null,
   "metadata": {},
   "outputs": [],
   "source": [
    "# 2)  뒤에서 k번째 원소 구하기:  단방향 연결리스트가 주어졌을 때 뒤에서 k번째 원소를 찾는 알고리즘을 구현하라.\n",
    "\n",
    "class Node:\n",
    "    def __init__(self, val):\n",
    "        self.val = val\n",
    "        self.next = None\n",
    "\n",
    "class LinkedList:\n",
    "    def __init__(self):\n",
    "        self.head = None\n",
    "        self.tail = None\n",
    "        \n",
    "    def find_k(self, k):\n",
    "        curr = self.head\n",
    "        k_curr = self.head\n",
    "        \n",
    "        for _ in range(k):\n",
    "            if k_curr == None:\n",
    "                return None\n",
    "            k_curr = k_curr.next\n",
    "        \n",
    "        while k_curr is not None:\n",
    "            k_curr = k_curr.next\n",
    "            curr = curr.next\n",
    "        return curr.val"
   ]
  },
  {
   "cell_type": "code",
   "execution_count": null,
   "metadata": {},
   "outputs": [],
   "source": [
    "#  3) 중간 노드 삭제 :  단방향 연결리스트가 주어졌을 때, 중간(처음과 끝 노드 제외)노드 하나를 삭제하는 알고리즘을 구현하라.\n",
    "#         입력 : 연결리스트드 a->b->c->d->e 에서 노드 c\n",
    "#         결과 :  a->b->d->e\n",
    "\n",
    "class LinkedList:\n",
    "    def __init__(self):\n",
    "        self.head = None\n",
    "        self.size = 0\n",
    "    \n",
    "    def deleteAtIndex(self, index):\n",
    "        if index < 0 or index >= self.size:\n",
    "            return\n",
    "        curr = self.head\n",
    "        \n",
    "        for _ in range(index-1):\n",
    "            curr = curr.next\n",
    "        curr.next = curr.next.next\n",
    "        "
   ]
  },
  {
   "cell_type": "code",
   "execution_count": null,
   "metadata": {},
   "outputs": [],
   "source": [
    "'''\n",
    "4) 리스트의 합 : 연결리스트로 숫자를 표현할 때 각 노드가 자릿수 하나를 가리키는 방식으로 표현할 수 있다. \n",
    "        각 숫자는 역순으로 배열되어 있는데, 첫 번째 자리수가 리스트의 맨 앞에 위치하도록 배열된다는 뜻이다. \n",
    "        이와 같은 방식으로 표현된 숫자 두 개가 있을 때, 이 두 수를 더하여 그 합을 연결리스트로 반환하는 함수를 작성하라.\n",
    "        입력 : (7->1->6) + (5->9->2). 즉, 617+295\n",
    "        결과 : 2->1->9 즉, 912.\n",
    "'''\n",
    "\n",
    "class Node:\n",
    "\n",
    "    def __init__(self, val):\n",
    "        self.val = val\n",
    "        self.next = None\n",
    "    \n",
    "class LinkedList:\n"
   ]
  }
 ],
 "metadata": {
  "kernelspec": {
   "display_name": "Python 3",
   "language": "python",
   "name": "python3"
  },
  "language_info": {
   "codemirror_mode": {
    "name": "ipython",
    "version": 3
   },
   "file_extension": ".py",
   "mimetype": "text/x-python",
   "name": "python",
   "nbconvert_exporter": "python",
   "pygments_lexer": "ipython3",
   "version": "3.7.6"
  }
 },
 "nbformat": 4,
 "nbformat_minor": 4
}
