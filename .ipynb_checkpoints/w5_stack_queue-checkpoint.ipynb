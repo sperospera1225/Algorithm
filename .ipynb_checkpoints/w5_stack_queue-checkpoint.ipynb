{
 "cells": [
  {
   "cell_type": "code",
   "execution_count": null,
   "metadata": {},
   "outputs": [],
   "source": [
    "# 1)\n",
    "'''\n",
    "https://www.acmicpc.net/problem/2493\n",
    "'''\n",
    "n = int(input())\n",
    "top = list(map(int,input().split()))\n",
    "stack = []\n",
    "result = []\n",
    "\n",
    "for i in range(n):\n",
    "    while stack:\n",
    "        if stack[-1][1] > top[i]:  # [-1][1] 이므로 stack 맨 끝쪽에서 1번째 배열에서 1번째 데이터를 top[i]와 비교\n",
    "            result.append(stack[-1][0] + 1)  # 배열은 0번째부터, 수신탑은 1번부터 시작하므로 수를 맞춰주고 result에 데이터 추가하기\n",
    "            break\n",
    "        stack.pop()  # 배열의 맨 끝 데이터 비우기\n",
    "\n",
    "    if not stack:\n",
    "        result.append(0)  # 스택이 비면 레이저를 수신한 탑이 없다는 뜻이므로 result에 \"0\" 데이터 추가\n",
    "\n",
    "    stack.append([i, top[i]])  # 스택에 현재 신호탑 데이터 추가\n",
    "\n",
    "for i in range(n):\n",
    "        print(result[i], end=' ')\n"
   ]
  },
  {
   "cell_type": "code",
   "execution_count": null,
   "metadata": {},
   "outputs": [],
   "source": []
  },
  {
   "cell_type": "code",
   "execution_count": null,
   "metadata": {},
   "outputs": [],
   "source": []
  }
 ],
 "metadata": {
  "kernelspec": {
   "display_name": "Python 3",
   "language": "python",
   "name": "python3"
  },
  "language_info": {
   "codemirror_mode": {
    "name": "ipython",
    "version": 3
   },
   "file_extension": ".py",
   "mimetype": "text/x-python",
   "name": "python",
   "nbconvert_exporter": "python",
   "pygments_lexer": "ipython3",
   "version": "3.7.6"
  }
 },
 "nbformat": 4,
 "nbformat_minor": 4
}
