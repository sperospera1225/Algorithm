{
 "cells": [
  {
   "cell_type": "code",
   "execution_count": 17,
   "metadata": {},
   "outputs": [
    {
     "name": "stdout",
     "output_type": "stream",
     "text": [
      "912\n",
      "912"
     ]
    }
   ],
   "source": [
    "'''\n",
    "리스트의 합 : 연결리스트로 숫자를 표현할 때 각 노드가 자릿수 하나를 가리키는 방식으로 표현할 수 있다. 각 숫자는 역순으로 배열되어 있는데, 첫 번째 자리수가 리스트의 맨 앞에 위치하도록 배열된다는 뜻이다. 이와 같은 방식으로 표현된 숫자 두 개가 있을 때, 이 두 수를 더하여 그 합을 연결리스트로 반환하는 함수를 작성하라.\n",
    "         입력 : (7->1->6) + (5->9->2). 즉, 617+295\n",
    "         결과 : 2->1->9 즉, 912.\n",
    "'''\n",
    "\n",
    "class Node(object):\n",
    "    def __init__(self, val):\n",
    "        self.val = val\n",
    "        self.next = None\n",
    "    \n",
    "class LinkedList(object):\n",
    "\n",
    "    def __init__(self):\n",
    "        self.head = None\n",
    "        self.size = 0\n",
    "        \n",
    "    def append(self, val):\n",
    "        n = Node(val)\n",
    "        if self.head is None:\n",
    "            self.head = Node(val)\n",
    "        else:\n",
    "            n.next = self.head\n",
    "            self.head = n\n",
    "            \n",
    "    def printlist(self):\n",
    "        current = self.head\n",
    "        while current is not None:\n",
    "            if(current.val != None):\n",
    "                print(current.val,end='')\n",
    "            current = current.next\n",
    "            \n",
    "    def addition(self):\n",
    "        tmp = ''\n",
    "        curr = self.head\n",
    "        while curr is not None:\n",
    "            tmp += curr.val\n",
    "            curr = curr.next\n",
    "        return tmp\n",
    "        \n",
    "        \n",
    "obj = LinkedList()\n",
    "obj.append('7')\n",
    "obj.append('1')\n",
    "obj.append('6')\n",
    "\n",
    "obj2 = LinkedList()\n",
    "obj2.append('5')\n",
    "obj2.append('9')\n",
    "obj2.append('2')\n",
    "\n",
    "result = str(int(obj.addition())+ int(obj2.addition()))\n",
    "print(result)\n",
    "newlinkedlist = LinkedList()\n",
    "for i in range(len(result)-1, -1, -1):\n",
    "    newlinkedlist.append(result[i])\n",
    "newlinkedlist.printlist()"
   ]
  },
  {
   "cell_type": "code",
   "execution_count": null,
   "metadata": {},
   "outputs": [],
   "source": []
  }
 ],
 "metadata": {
  "kernelspec": {
   "display_name": "Python 3",
   "language": "python",
   "name": "python3"
  },
  "language_info": {
   "codemirror_mode": {
    "name": "ipython",
    "version": 3
   },
   "file_extension": ".py",
   "mimetype": "text/x-python",
   "name": "python",
   "nbconvert_exporter": "python",
   "pygments_lexer": "ipython3",
   "version": "3.7.6"
  }
 },
 "nbformat": 4,
 "nbformat_minor": 4
}
