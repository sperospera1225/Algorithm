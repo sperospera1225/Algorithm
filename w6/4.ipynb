{
 "cells": [
  {
   "cell_type": "code",
   "execution_count": 18,
   "metadata": {},
   "outputs": [
    {
     "name": "stdout",
     "output_type": "stream",
     "text": [
      "0 3\n",
      "['DIA', 'RUBY', 'RUBY', 'DIA']\n",
      "1 4\n",
      "['RUBY', 'RUBY', 'DIA', 'DIA']\n",
      "2 5\n",
      "['RUBY', 'DIA', 'DIA', 'EMERALD']\n",
      "3 6\n",
      "['DIA', 'DIA', 'EMERALD', 'SAPPHIRE']\n",
      "4 7\n",
      "['DIA', 'EMERALD', 'SAPPHIRE', 'DIA']\n",
      "0 4\n",
      "['DIA', 'RUBY', 'RUBY', 'DIA', 'DIA']\n",
      "1 5\n",
      "['RUBY', 'RUBY', 'DIA', 'DIA', 'EMERALD']\n",
      "2 6\n",
      "['RUBY', 'DIA', 'DIA', 'EMERALD', 'SAPPHIRE']\n"
     ]
    },
    {
     "data": {
      "text/plain": [
       "[3, 7]"
      ]
     },
     "execution_count": 18,
     "metadata": {},
     "output_type": "execute_result"
    }
   ],
   "source": [
    "def solution(gems):\n",
    "    answer = []\n",
    "    flag = False\n",
    "    num = len(set(gems))\n",
    "    for i in range(len(set(gems)), len(gems)):\n",
    "        start, end = 0, i-1\n",
    "        while True:\n",
    "            print(start, end)\n",
    "            print(gems[start:end+1])\n",
    "            if len(set(gems[start:end+1])) == num:\n",
    "                answer = gems[start:end+1]\n",
    "                flag = True\n",
    "                break\n",
    "            else:\n",
    "                start += 1\n",
    "                end += 1\n",
    "            if end == len(gems):\n",
    "                break\n",
    "        if flag == True:\n",
    "            break\n",
    "    return [start+1, end+1]\n",
    "            \n",
    "a=solution([\"DIA\", \"RUBY\", \"RUBY\", \"DIA\", \"DIA\", \"EMERALD\", \"SAPPHIRE\", \"DIA\"])\n",
    "a"
   ]
  },
  {
   "cell_type": "code",
   "execution_count": null,
   "metadata": {},
   "outputs": [],
   "source": []
  }
 ],
 "metadata": {
  "kernelspec": {
   "display_name": "Python 3",
   "language": "python",
   "name": "python3"
  },
  "language_info": {
   "codemirror_mode": {
    "name": "ipython",
    "version": 3
   },
   "file_extension": ".py",
   "mimetype": "text/x-python",
   "name": "python",
   "nbconvert_exporter": "python",
   "pygments_lexer": "ipython3",
   "version": "3.7.6"
  }
 },
 "nbformat": 4,
 "nbformat_minor": 4
}
