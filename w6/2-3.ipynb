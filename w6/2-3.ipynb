{
 "cells": [
  {
   "cell_type": "markdown",
   "metadata": {},
   "source": [
    "# SJF 는 대기시간 최적알고리즘 (preemptive)"
   ]
  },
  {
   "cell_type": "code",
   "execution_count": 26,
   "metadata": {},
   "outputs": [
    {
     "name": "stdout",
     "output_type": "stream",
     "text": [
      "9\n"
     ]
    }
   ],
   "source": [
    "def solution(jobs):\n",
    "    n = len(jobs)\n",
    "    jobs = sorted(jobs, key=lambda x: (x[0], x[1]))\n",
    "\n",
    "    # 시작시간, 시간\n",
    "    start, time = jobs.pop(0)\n",
    "    # 끝시간\n",
    "    end = start + time\n",
    "    answer = time\n",
    "\n",
    "    while jobs:\n",
    "        next_idx = 0\n",
    "        for i in range(1, len(jobs)):\n",
    "            # 이전 일이 끝난 시간보다 다음 일의 시작 시간이 느릴때, 그냥 넘어감. \n",
    "            if jobs[i][0] > end:\n",
    "                break\n",
    "            # 이전 일이 끝난 시간보다 빠를 때, next_idx 넘기기. \n",
    "            else:\n",
    "                # next_idx 의 끝나는 시간이 가장 느린 애로 바꾸기. \n",
    "                if jobs[next_idx][1] > jobs[i][1]:\n",
    "                    next_idx = i\n",
    "        \n",
    "        next_ = jobs.pop(next_idx)\n",
    "\n",
    "        if next_[0] > end:\n",
    "            answer += next_[1]\n",
    "            end = sum(next_)\n",
    "        else:\n",
    "            answer += next_[1]+(end-next_[0])\n",
    "            end += next_[1]\n",
    "    answer = answer//n\n",
    "    return answer\n",
    "\n",
    "print(solution([[0, 3], [1, 9], [2, 6]]))"
   ]
  },
  {
   "cell_type": "markdown",
   "metadata": {},
   "source": [
    "# Shortest Remaining Time 는 최단 잔여시간 (non-preemptive)"
   ]
  },
  {
   "cell_type": "code",
   "execution_count": 25,
   "metadata": {},
   "outputs": [
    {
     "name": "stdout",
     "output_type": "stream",
     "text": [
      "0 초\n",
      "[[3, 0]]\n",
      "1 초\n",
      "[[2, 0]]\n",
      "2 초\n",
      "[[1, 0]]\n",
      "3 초\n",
      "[[0, 0]]\n",
      "4 초\n",
      "[]\n",
      "5 초\n",
      "[[9, 5]]\n",
      "6 초\n",
      "[[6, 6], [8, 5]]\n",
      "7 초\n",
      "[[5, 6], [8, 5]]\n",
      "8 초\n",
      "[[4, 6], [8, 5]]\n",
      "9 초\n",
      "[[3, 6], [8, 5]]\n",
      "10 초\n",
      "[[2, 6], [8, 5]]\n",
      "11 초\n",
      "[[1, 6], [8, 5]]\n",
      "12 초\n",
      "[[0, 6], [8, 5]]\n",
      "13 초\n",
      "[[7, 5]]\n",
      "14 초\n",
      "[[6, 5]]\n",
      "15 초\n",
      "[[5, 5]]\n",
      "16 초\n",
      "[[4, 5]]\n",
      "17 초\n",
      "[[3, 5]]\n",
      "18 초\n",
      "[[2, 5]]\n",
      "19 초\n",
      "[[1, 5]]\n",
      "20 초\n",
      "[[0, 5]]\n"
     ]
    },
    {
     "data": {
      "text/plain": [
       "8"
      ]
     },
     "execution_count": 25,
     "metadata": {},
     "output_type": "execute_result"
    }
   ],
   "source": [
    "import heapq\n",
    "#Shortest Remaining Time Scheduling\n",
    "def solution(jobs):\n",
    "    num = len(jobs)\n",
    "    cnt = 0\n",
    "    q = []\n",
    "    i = 0\n",
    "    waiting_time = []\n",
    "    while(True):\n",
    "        print(i,'초')\n",
    "        for job in jobs:\n",
    "            if i == job[0]:\n",
    "                heapq.heappush(q, [job[1],job[0]])\n",
    "#             else:\n",
    "#                 jobs.pop(0)\n",
    "#                 break\n",
    "        print(q)\n",
    "        if not q:\n",
    "            i += 1\n",
    "            continue\n",
    "        if q[0][0]!=0:\n",
    "            q[0][0] -= 1\n",
    "        elif q[0][0]==0:\n",
    "            waiting_time.append(i-q[0][1])\n",
    "            a = heapq.heappop(q)\n",
    "            cnt += 1\n",
    "            if q:\n",
    "                q[0][0] -= 1\n",
    "        if cnt == num:\n",
    "            break\n",
    "        i += 1\n",
    "    return int(sum(waiting_time)/num)\n",
    "\n",
    "solution([[0, 3], [5, 9], [6, 6]])"
   ]
  }
 ],
 "metadata": {
  "kernelspec": {
   "display_name": "Python 3",
   "language": "python",
   "name": "python3"
  },
  "language_info": {
   "codemirror_mode": {
    "name": "ipython",
    "version": 3
   },
   "file_extension": ".py",
   "mimetype": "text/x-python",
   "name": "python",
   "nbconvert_exporter": "python",
   "pygments_lexer": "ipython3",
   "version": "3.7.6"
  }
 },
 "nbformat": 4,
 "nbformat_minor": 4
}
