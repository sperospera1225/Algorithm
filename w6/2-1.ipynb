{
 "cells": [
  {
   "cell_type": "code",
   "execution_count": 20,
   "metadata": {},
   "outputs": [
    {
     "name": "stdout",
     "output_type": "stream",
     "text": [
      "mirkovniz\n"
     ]
    }
   ],
   "source": [
    "c1 = \"mirkovC4nizCC44\"\n",
    "c2 = \"C4\"\n",
    "\n",
    "slow = 0\n",
    "fast = len(c2)\n",
    "\n",
    "while c2 in c1:\n",
    "    slow = 0\n",
    "    fast = len(c2)\n",
    "    for i in range(len(c1)):\n",
    "        # print(c1[slow:fast])\n",
    "        if c1[slow:fast] == c2:\n",
    "            c1 = c1[:slow] + c1[fast:]\n",
    "        slow += 1\n",
    "        fast += 1\n",
    "\n",
    "if len(c1) == 0:\n",
    "    print(\"FRULA\")\n",
    "else:\n",
    "    print(c1)"
   ]
  },
  {
   "cell_type": "code",
   "execution_count": null,
   "metadata": {},
   "outputs": [],
   "source": []
  }
 ],
 "metadata": {
  "kernelspec": {
   "display_name": "Python 3",
   "language": "python",
   "name": "python3"
  },
  "language_info": {
   "codemirror_mode": {
    "name": "ipython",
    "version": 3
   },
   "file_extension": ".py",
   "mimetype": "text/x-python",
   "name": "python",
   "nbconvert_exporter": "python",
   "pygments_lexer": "ipython3",
   "version": "3.7.6"
  }
 },
 "nbformat": 4,
 "nbformat_minor": 4
}
