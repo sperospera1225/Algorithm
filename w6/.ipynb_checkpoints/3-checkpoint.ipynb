{
 "cells": [
  {
   "cell_type": "code",
   "execution_count": 11,
   "metadata": {
    "scrolled": true
   },
   "outputs": [
    {
     "name": "stdout",
     "output_type": "stream",
     "text": [
      "{'DIA': 1}\n",
      "[1, 10]\n",
      "{'DIA': 1, 'RUBY': 1}\n",
      "[1, 10]\n",
      "{'DIA': 1, 'RUBY': 2}\n",
      "[1, 10]\n",
      "{'DIA': 2, 'RUBY': 2}\n",
      "[1, 10]\n",
      "{'DIA': 3, 'RUBY': 2}\n",
      "[1, 10]\n",
      "{'DIA': 3, 'RUBY': 2, 'EMERALD': 1}\n",
      "[1, 10]\n",
      "{'DIA': 3, 'RUBY': 2, 'EMERALD': 1, 'SAPPHIRE': 1}\n",
      "6 0 10 1\n",
      "[1, 7]\n",
      "{'DIA': 2, 'RUBY': 2, 'EMERALD': 1, 'SAPPHIRE': 1}\n",
      "6 1 7 1\n",
      "[2, 7]\n",
      "{'DIA': 2, 'RUBY': 1, 'EMERALD': 1, 'SAPPHIRE': 1}\n",
      "6 2 7 2\n",
      "[3, 7]\n",
      "{'DIA': 2, 'EMERALD': 1, 'SAPPHIRE': 1}\n",
      "[3, 7]\n",
      "{'DIA': 3, 'EMERALD': 1, 'SAPPHIRE': 1}\n",
      "[3, 7]\n",
      "{'DIA': 3, 'EMERALD': 1, 'SAPPHIRE': 1, 'RUBY': 1}\n",
      "8 3 7 3\n",
      "[3, 7]\n",
      "{'DIA': 2, 'EMERALD': 1, 'SAPPHIRE': 1, 'RUBY': 1}\n",
      "8 4 7 3\n",
      "[3, 7]\n",
      "{'DIA': 1, 'EMERALD': 1, 'SAPPHIRE': 1, 'RUBY': 1}\n",
      "8 5 7 3\n",
      "[6, 9]\n",
      "{'DIA': 1, 'SAPPHIRE': 1, 'RUBY': 1}\n",
      "[6, 9]\n",
      "{'DIA': 1, 'SAPPHIRE': 1, 'RUBY': 1, 'EMERALD': 1}\n",
      "9 6 9 6\n",
      "[6, 9]\n",
      "{'DIA': 1, 'RUBY': 1, 'EMERALD': 1}\n"
     ]
    },
    {
     "data": {
      "text/plain": [
       "[6, 9]"
      ]
     },
     "execution_count": 11,
     "metadata": {},
     "output_type": "execute_result"
    }
   ],
   "source": [
    "def solution(gems):\n",
    "    answer = []\n",
    "    size = len(set(gems))\n",
    "    dic = {gems[0]: 1}\n",
    "    temp = [1, len(gems)]\n",
    "    start, end = 0, 0\n",
    "    while(start<len(gems) and end < len(gems)):\n",
    "        print(dic)\n",
    "        if len(dic) != size:\n",
    "            end += 1\n",
    "            if end >= len(gems):\n",
    "                break\n",
    "            dic[gems[end]] = dic.get(gems[end], 0)+1\n",
    "        else: \n",
    "            print(end, start, temp[1], temp[0])\n",
    "            if end - start < temp[1] - temp[0]:\n",
    "                temp = [start + 1, end + 1]\n",
    "            if dic[gems[start]] == 1:\n",
    "                del dic[gems[start]]\n",
    "            else:\n",
    "                dic[gems[start]] -= 1\n",
    "            start += 1\n",
    "        print(temp)\n",
    "    return temp\n",
    "\n",
    "a=solution([\"DIA\", \"RUBY\", \"RUBY\", \"DIA\", \"DIA\", \"EMERALD\", \"SAPPHIRE\", \"DIA\", \"RUBY\", \"EMERALD\"])\n",
    "a"
   ]
  },
  {
   "cell_type": "code",
   "execution_count": 12,
   "metadata": {},
   "outputs": [
    {
     "data": {
      "text/plain": [
       "[1, 5]"
      ]
     },
     "execution_count": 12,
     "metadata": {},
     "output_type": "execute_result"
    }
   ],
   "source": [
    "import heapq\n",
    "from collections import defaultdict\n",
    "\n",
    "def solution(gems):\n",
    "    answer = []\n",
    "    n_ = len(gems)\n",
    "    n = len(list(set(gems)))\n",
    "    cart = defaultdict(int)\n",
    "\n",
    "    start, end = 0, 0\n",
    "    while True:\n",
    "\n",
    "        if len(cart) == n:\n",
    "            heapq.heappush(answer, [end-start, start, end])\n",
    "        \n",
    "        if len(cart) >= n:\n",
    "            cart[gems[start]] -= 1\n",
    "            if cart[gems[start]] == 0:\n",
    "                del cart[gems[start]]\n",
    "            start += 1\n",
    "        elif end == n_:\n",
    "            break\n",
    "        elif len(cart) < n:\n",
    "            cart[gems[end]] += 1\n",
    "            end += 1\n",
    "\n",
    "    return [answer[0][1]+1, answer[0][2]]\n",
    "\n",
    "a=solution([\"ZZZ\", \"YYY\", \"NNNN\", \"YYY\", \"BBB\"])\n",
    "a"
   ]
  },
  {
   "cell_type": "markdown",
   "metadata": {},
   "source": [
    "# Timeout Error (Better to use Dictionary)"
   ]
  },
  {
   "cell_type": "code",
   "execution_count": 10,
   "metadata": {},
   "outputs": [
    {
     "data": {
      "text/plain": [
       "[1, 5]"
      ]
     },
     "execution_count": 10,
     "metadata": {},
     "output_type": "execute_result"
    }
   ],
   "source": [
    "def solution(gems):\n",
    "    answer = []\n",
    "    flag = False\n",
    "    num = len(set(gems))\n",
    "    for i in range(num, len(gems)+1):\n",
    "        start, end = 0, i-1\n",
    "        while True:\n",
    "            if len(set(gems[start:end+1])) == num:\n",
    "                answer = gems[start:end+1]\n",
    "                flag = True\n",
    "                break\n",
    "            else:\n",
    "                start += 1\n",
    "                end += 1\n",
    "            if end == len(gems):\n",
    "                break\n",
    "        if flag == True:\n",
    "            break\n",
    "    return [start+1, end+1]\n",
    "            \n",
    "a=solution([\"ZZZ\", \"YYY\", \"NNNN\", \"YYY\", \"BBB\"])\n",
    "a"
   ]
  },
  {
   "cell_type": "code",
   "execution_count": null,
   "metadata": {},
   "outputs": [],
   "source": []
  }
 ],
 "metadata": {
  "kernelspec": {
   "display_name": "Python 3",
   "language": "python",
   "name": "python3"
  },
  "language_info": {
   "codemirror_mode": {
    "name": "ipython",
    "version": 3
   },
   "file_extension": ".py",
   "mimetype": "text/x-python",
   "name": "python",
   "nbconvert_exporter": "python",
   "pygments_lexer": "ipython3",
   "version": "3.7.6"
  }
 },
 "nbformat": 4,
 "nbformat_minor": 4
}
