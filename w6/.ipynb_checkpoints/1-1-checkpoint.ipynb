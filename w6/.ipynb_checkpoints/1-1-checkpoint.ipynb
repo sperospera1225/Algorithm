{
 "cells": [
  {
   "cell_type": "code",
   "execution_count": 5,
   "metadata": {},
   "outputs": [
    {
     "data": {
      "text/plain": [
       "1"
      ]
     },
     "execution_count": 5,
     "metadata": {},
     "output_type": "execute_result"
    }
   ],
   "source": [
    "# # 1848. Minimum Distance to the Target Element\n",
    "# https://leetcode.com/contest/weekly-contest-239/problems/minimum-distance-to-the-target-element/\n",
    "\n",
    "class Solution:\n",
    "    def getMinDistance(self, nums, target, start) -> int:\n",
    "        idx=[]\n",
    "        for i, num in enumerate(nums):\n",
    "            if num==target:\n",
    "                idx.append(abs(i-start))\n",
    "        return min(idx)\n",
    "s = Solution()\n",
    "s.getMinDistance([1,2,3,4,5],5,3)"
   ]
  },
  {
   "cell_type": "code",
   "execution_count": null,
   "metadata": {},
   "outputs": [],
   "source": []
  },
  {
   "cell_type": "code",
   "execution_count": null,
   "metadata": {},
   "outputs": [],
   "source": []
  }
 ],
 "metadata": {
  "kernelspec": {
   "display_name": "Python 3",
   "language": "python",
   "name": "python3"
  },
  "language_info": {
   "codemirror_mode": {
    "name": "ipython",
    "version": 3
   },
   "file_extension": ".py",
   "mimetype": "text/x-python",
   "name": "python",
   "nbconvert_exporter": "python",
   "pygments_lexer": "ipython3",
   "version": "3.7.6"
  }
 },
 "nbformat": 4,
 "nbformat_minor": 4
}
