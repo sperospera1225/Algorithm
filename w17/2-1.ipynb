{
 "cells": [
  {
   "cell_type": "code",
   "execution_count": 1,
   "id": "e6e4c5b4",
   "metadata": {},
   "outputs": [],
   "source": [
    "def solution(gems):\n",
    "    flag = False\n",
    "    num = len(set(gems))\n",
    "    for i in range(num, len(gems)+1):\n",
    "        start, end = 0, i-1\n",
    "        while True:\n",
    "            if len(set(gems[start:end+1])) == num:\n",
    "                answer = gems[start:end+1]\n",
    "                flag = True\n",
    "                break\n",
    "            else:\n",
    "                start += 1\n",
    "                end += 1\n",
    "            if end == len(gems):\n",
    "                break\n",
    "        if flag == True:\n",
    "            break\n",
    "    return [start+1, end+1]"
   ]
  },
  {
   "cell_type": "code",
   "execution_count": null,
   "id": "76ddd87b",
   "metadata": {},
   "outputs": [],
   "source": []
  }
 ],
 "metadata": {
  "kernelspec": {
   "display_name": "Python 3",
   "language": "python",
   "name": "python3"
  },
  "language_info": {
   "codemirror_mode": {
    "name": "ipython",
    "version": 3
   },
   "file_extension": ".py",
   "mimetype": "text/x-python",
   "name": "python",
   "nbconvert_exporter": "python",
   "pygments_lexer": "ipython3",
   "version": "3.7.7"
  }
 },
 "nbformat": 4,
 "nbformat_minor": 5
}
