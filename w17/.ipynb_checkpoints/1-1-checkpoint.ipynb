{
 "cells": [
  {
   "cell_type": "code",
   "execution_count": 19,
   "id": "1b783d5a",
   "metadata": {},
   "outputs": [],
   "source": [
    "class Solution:\n",
    "    def reversePrefix(self, word, ch) -> str:\n",
    "        idx = -1\n",
    "        for i in range(len(word)):\n",
    "            if word[i] == ch:\n",
    "                idx = i\n",
    "                break\n",
    "        if idx == -1:\n",
    "            return word\n",
    "        else:\n",
    "            return word[idx::-1]+word[idx+1:]"
   ]
  },
  {
   "cell_type": "code",
   "execution_count": 20,
   "id": "c52224f3",
   "metadata": {},
   "outputs": [
    {
     "data": {
      "text/plain": [
       "'zxyxxe'"
      ]
     },
     "execution_count": 20,
     "metadata": {},
     "output_type": "execute_result"
    }
   ],
   "source": [
    "s = Solution()\n",
    "s.reversePrefix(\"xyxzxe\", \"z\")"
   ]
  }
 ],
 "metadata": {
  "kernelspec": {
   "display_name": "Python 3",
   "language": "python",
   "name": "python3"
  },
  "language_info": {
   "codemirror_mode": {
    "name": "ipython",
    "version": 3
   },
   "file_extension": ".py",
   "mimetype": "text/x-python",
   "name": "python",
   "nbconvert_exporter": "python",
   "pygments_lexer": "ipython3",
   "version": "3.7.7"
  }
 },
 "nbformat": 4,
 "nbformat_minor": 5
}
