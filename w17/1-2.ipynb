{
 "cells": [
  {
   "cell_type": "code",
   "execution_count": null,
   "id": "0aa20c30",
   "metadata": {},
   "outputs": [],
   "source": [
    "from collections import defaultdict\n",
    "\n",
    "class Solution:\n",
    "    def interchangeableRectangles(self, rectangles: List[List[int]]) -> int:\n",
    "        ans = 0\n",
    "        dictionary = defaultdict(int)\n",
    "        for i in range(len(rectangles)):\n",
    "            ratio = rectangles[i][0] / rectangles[i][1]\n",
    "            dictionary[ratio] += 1\n",
    "        for x in dictionary:\n",
    "            value = dictionary[x]\n",
    "            if (value > 1):\n",
    "                ans += (value * (value - 1)) / 2 ## 4c2\n",
    "        return int(ans)"
   ]
  }
 ],
 "metadata": {
  "kernelspec": {
   "display_name": "Python 3",
   "language": "python",
   "name": "python3"
  },
  "language_info": {
   "codemirror_mode": {
    "name": "ipython",
    "version": 3
   },
   "file_extension": ".py",
   "mimetype": "text/x-python",
   "name": "python",
   "nbconvert_exporter": "python",
   "pygments_lexer": "ipython3",
   "version": "3.7.7"
  }
 },
 "nbformat": 4,
 "nbformat_minor": 5
}
