{
 "cells": [
  {
   "cell_type": "code",
   "execution_count": 4,
   "metadata": {},
   "outputs": [
    {
     "name": "stdout",
     "output_type": "stream",
     "text": [
      "4 5 1\n",
      "1 2 \n",
      "1 3\n",
      "1 4\n",
      "2 4\n",
      "3 4\n",
      "1 2 4 3 \n",
      "1 2 3 4 "
     ]
    }
   ],
   "source": [
    "from collections import deque\n",
    "\n",
    "N, M, V = map(int, input().split())\n",
    "\n",
    "matrix = [[0] * N for i in range(N)]\n",
    "# visited = [0 for i in range(N)]\n",
    "\n",
    "for i in range(M):\n",
    "    a, b = map(int, input().split())\n",
    "    matrix[a-1][b-1] = 1\n",
    "    matrix[b-1][a-1] = 1\n",
    "\n",
    "\n",
    "def DFS(v, visited):\n",
    "    visited[v-1] = 1\n",
    "    print(v, end = ' ')\n",
    "    for i in range(N):\n",
    "        if(visited[i] == 0 and matrix[v-1][i] == 1):\n",
    "            DFS(i+1, visited)\n",
    "\n",
    "\n",
    "def BFS(v, visited):\n",
    "    queue = deque([v])\n",
    "    visited[v-1] = 1\n",
    "    while(queue):\n",
    "        v = queue.popleft()\n",
    "        print(v, end=' ')\n",
    "        for i in range(N):\n",
    "            if visited[i] == 0 and matrix[v-1][i] == 1:\n",
    "                queue.append(i+1)\n",
    "                visited[i] = 1\n",
    "                \n",
    "DFS(V, [0 for i in range(N)])\n",
    "print()\n",
    "BFS(V, [0 for i in range(N)])"
   ]
  },
  {
   "cell_type": "code",
   "execution_count": null,
   "metadata": {},
   "outputs": [],
   "source": []
  }
 ],
 "metadata": {
  "kernelspec": {
   "display_name": "Python 3",
   "language": "python",
   "name": "python3"
  },
  "language_info": {
   "codemirror_mode": {
    "name": "ipython",
    "version": 3
   },
   "file_extension": ".py",
   "mimetype": "text/x-python",
   "name": "python",
   "nbconvert_exporter": "python",
   "pygments_lexer": "ipython3",
   "version": "3.7.6"
  }
 },
 "nbformat": 4,
 "nbformat_minor": 4
}
