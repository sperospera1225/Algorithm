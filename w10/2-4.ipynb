{
 "cells": [
  {
   "cell_type": "code",
   "execution_count": 1,
   "metadata": {},
   "outputs": [
    {
     "name": "stdout",
     "output_type": "stream",
     "text": [
      "2\n",
      "1\n"
     ]
    }
   ],
   "source": [
    "def solution(n, computers):\n",
    "    visited = [0 for i in range(n)]\n",
    "    answer = 0\n",
    "    for i in range(n):\n",
    "        if visited[i-1] == 0:\n",
    "            dfs(n, computers, i, visited)\n",
    "            answer += 1\n",
    "    return answer\n",
    "\n",
    "def dfs(n, computers, v, visited):\n",
    "    visited[v-1] = 1\n",
    "    for i in range(n):\n",
    "        if(visited[i] == 0 and computers[v-1][i] == 1): \n",
    "            dfs(n, computers, i+1, visited)\n",
    "    \n",
    "print(solution(3, [[1, 1, 0], [1, 1, 0], [0, 0, 1]]))\n",
    "print(solution(3, [[1, 1, 0], [1, 1, 1], [0, 1, 1]]))"
   ]
  },
  {
   "cell_type": "code",
   "execution_count": null,
   "metadata": {},
   "outputs": [],
   "source": []
  }
 ],
 "metadata": {
  "kernelspec": {
   "display_name": "Python 3",
   "language": "python",
   "name": "python3"
  },
  "language_info": {
   "codemirror_mode": {
    "name": "ipython",
    "version": 3
   },
   "file_extension": ".py",
   "mimetype": "text/x-python",
   "name": "python",
   "nbconvert_exporter": "python",
   "pygments_lexer": "ipython3",
   "version": "3.7.6"
  }
 },
 "nbformat": 4,
 "nbformat_minor": 4
}
