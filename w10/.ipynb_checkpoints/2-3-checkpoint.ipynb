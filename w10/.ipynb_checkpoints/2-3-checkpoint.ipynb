{
 "cells": [
  {
   "cell_type": "code",
   "execution_count": 4,
   "metadata": {},
   "outputs": [
    {
     "name": "stdout",
     "output_type": "stream",
     "text": [
      "7\n",
      "6\n",
      "1 2\n",
      "2 3\n",
      "1 5\n",
      "5 2\n",
      "5 6\n",
      "4 7\n",
      "1 2 3 5 6 "
     ]
    },
    {
     "data": {
      "text/plain": [
       "4"
      ]
     },
     "execution_count": 4,
     "metadata": {},
     "output_type": "execute_result"
    }
   ],
   "source": [
    "n = int(input())\n",
    "m = int(input())\n",
    "\n",
    "matrix = [[0] * n for i in range(n)]\n",
    "visited = [0 for i in range(n)]\n",
    "stack = []\n",
    "\n",
    "for i in range(m):\n",
    "    a, b = map(int, input().split())\n",
    "    matrix[a-1][b-1] = 1\n",
    "    matrix[b-1][a-1] = 1\n",
    "\n",
    "def dfs(v, visited):\n",
    "    global stack\n",
    "    visited[v-1] = 1\n",
    "    print(v, end = ' ')\n",
    "    #stack.append(v)\n",
    "    for i in range(n):\n",
    "        if(visited[i] == 0 and matrix[v-1][i] == 1): \n",
    "            stack.append(i+1)\n",
    "            dfs(i+1, visited)\n",
    "    return len(stack)\n",
    "            \n",
    "dfs(1, visited)"
   ]
  },
  {
   "cell_type": "code",
   "execution_count": null,
   "metadata": {},
   "outputs": [],
   "source": []
  }
 ],
 "metadata": {
  "kernelspec": {
   "display_name": "Python 3",
   "language": "python",
   "name": "python3"
  },
  "language_info": {
   "codemirror_mode": {
    "name": "ipython",
    "version": 3
   },
   "file_extension": ".py",
   "mimetype": "text/x-python",
   "name": "python",
   "nbconvert_exporter": "python",
   "pygments_lexer": "ipython3",
   "version": "3.7.6"
  }
 },
 "nbformat": 4,
 "nbformat_minor": 4
}
