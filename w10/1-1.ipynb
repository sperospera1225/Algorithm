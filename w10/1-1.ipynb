{
 "cells": [
  {
   "cell_type": "code",
   "execution_count": 35,
   "metadata": {},
   "outputs": [
    {
     "name": "stdout",
     "output_type": "stream",
     "text": [
      "<class 'dict_values'>\n",
      "<class 'dict_values'>\n"
     ]
    },
    {
     "data": {
      "text/plain": [
       "False"
      ]
     },
     "execution_count": 35,
     "metadata": {},
     "output_type": "execute_result"
    }
   ],
   "source": [
    "from collections import defaultdict\n",
    "\n",
    "class Solution:\n",
    "    def makeEqual(self, words) -> bool:\n",
    "        char_dict = defaultdict(int)\n",
    "        for word in words:\n",
    "            for char in word:\n",
    "                char_dict[char] += 1\n",
    "        \n",
    "        if len(words) == 1:\n",
    "            return True\n",
    "        for i in list(char_dict.values()):\n",
    "            print(type(char_dict.values()))\n",
    "            if i % len(words) != 0:\n",
    "                return False\n",
    "        return True\n",
    "            \n",
    "s = Solution()\n",
    "s.makeEqual([\"ab\",\"a\"])"
   ]
  },
  {
   "cell_type": "code",
   "execution_count": null,
   "metadata": {},
   "outputs": [],
   "source": []
  }
 ],
 "metadata": {
  "kernelspec": {
   "display_name": "Python 3",
   "language": "python",
   "name": "python3"
  },
  "language_info": {
   "codemirror_mode": {
    "name": "ipython",
    "version": 3
   },
   "file_extension": ".py",
   "mimetype": "text/x-python",
   "name": "python",
   "nbconvert_exporter": "python",
   "pygments_lexer": "ipython3",
   "version": "3.7.6"
  }
 },
 "nbformat": 4,
 "nbformat_minor": 4
}
