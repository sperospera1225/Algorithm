{
 "cells": [
  {
   "cell_type": "code",
   "execution_count": 32,
   "metadata": {},
   "outputs": [
    {
     "data": {
      "text/plain": [
       "False"
      ]
     },
     "execution_count": 32,
     "metadata": {},
     "output_type": "execute_result"
    }
   ],
   "source": [
    "from collections import defaultdict\n",
    "\n",
    "class Solution:\n",
    "    def makeEqual(self, words) -> bool:\n",
    "        char_dict = defaultdict(int)\n",
    "        for word in words:\n",
    "            for char in word:\n",
    "                char_dict[char] += 1\n",
    "        tmp = 0\n",
    "        \n",
    "        if len(words) == 1:\n",
    "            return True\n",
    "        for i in list(char_dict.values()):\n",
    "            if i % len(words) != 0:\n",
    "                return False\n",
    "            else:\n",
    "                if tmp == 0:\n",
    "                    tmp = i\n",
    "                else:\n",
    "                    if tmp == i:\n",
    "                        continue\n",
    "                    else:\n",
    "                        return False\n",
    "        return True\n",
    "            \n",
    "s = Solution()\n",
    "s.makeEqual([\"ab\",\"a\"])"
   ]
  },
  {
   "cell_type": "code",
   "execution_count": null,
   "metadata": {},
   "outputs": [],
   "source": []
  }
 ],
 "metadata": {
  "kernelspec": {
   "display_name": "Python 3",
   "language": "python",
   "name": "python3"
  },
  "language_info": {
   "codemirror_mode": {
    "name": "ipython",
    "version": 3
   },
   "file_extension": ".py",
   "mimetype": "text/x-python",
   "name": "python",
   "nbconvert_exporter": "python",
   "pygments_lexer": "ipython3",
   "version": "3.7.6"
  }
 },
 "nbformat": 4,
 "nbformat_minor": 4
}
