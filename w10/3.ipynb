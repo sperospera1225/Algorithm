{
 "cells": [
  {
   "cell_type": "code",
   "execution_count": 1,
   "metadata": {},
   "outputs": [
    {
     "name": "stdout",
     "output_type": "stream",
     "text": [
      "[1, 0]\n",
      "[1, 1]\n",
      "[2, 1]\n",
      "[2, 2]\n",
      "[5, 0]\n",
      "[5, 1]\n",
      "[4, 2]\n",
      "[3, 2]\n"
     ]
    },
    {
     "data": {
      "text/plain": [
       "[[]]"
      ]
     },
     "execution_count": 1,
     "metadata": {},
     "output_type": "execute_result"
    }
   ],
   "source": [
    "def solution(n, build_frame):\n",
    "    matrix = [[0] * n for i in range(n)]\n",
    "    answer = [[]]\n",
    "    for i in build_frame:\n",
    "        matrix[:2] = 1\n",
    "        if i[3] == 0:\n",
    "            matrix[:2][1] = 1\n",
    "        elif i[3] == 1:\n",
    "            matrix[:2][1] = 1\n",
    "    return answer\n",
    "\n",
    "solution(5, [[1,0,0,1],[1,1,1,1],[2,1,0,1],[2,2,1,1],[5,0,0,1],[5,1,0,1],[4,2,1,1],[3,2,1,1]])"
   ]
  },
  {
   "cell_type": "code",
   "execution_count": null,
   "metadata": {},
   "outputs": [],
   "source": []
  }
 ],
 "metadata": {
  "kernelspec": {
   "display_name": "Python 3",
   "language": "python",
   "name": "python3"
  },
  "language_info": {
   "codemirror_mode": {
    "name": "ipython",
    "version": 3
   },
   "file_extension": ".py",
   "mimetype": "text/x-python",
   "name": "python",
   "nbconvert_exporter": "python",
   "pygments_lexer": "ipython3",
   "version": "3.7.6"
  }
 },
 "nbformat": 4,
 "nbformat_minor": 4
}
