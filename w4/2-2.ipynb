{
 "cells": [
  {
   "cell_type": "code",
   "execution_count": 24,
   "metadata": {},
   "outputs": [
    {
     "name": "stdout",
     "output_type": "stream",
     "text": [
      "[1, 3, 2, 4]\n",
      "[]\n",
      "[4, 2, 3]\n",
      "[]\n",
      "[4, 2]\n",
      "[10, 12]\n",
      "[4]\n",
      "[10, 12]\n",
      "[]\n",
      "[]\n",
      "[12]\n"
     ]
    },
    {
     "data": {
      "text/plain": [
       "-1"
      ]
     },
     "execution_count": 24,
     "metadata": {},
     "output_type": "execute_result"
    }
   ],
   "source": [
    "# 2) 스택으로 큐 : 스택 두 개로 큐 하나를 구현한 MyQueue 클래스를 구현하라.\n",
    "\n",
    "class MyQueue:\n",
    "    stack1 = list()\n",
    "    stack2 = list()\n",
    "    \n",
    "    def inQueue(self, val):\n",
    "        self.stack1.append(val)\n",
    "    def deQueue(self):\n",
    "        if len(self.stack1)==0 and len(self.stack2)==0:\n",
    "            return -1\n",
    "        if not self.stack2:\n",
    "            while self.stack1:\n",
    "                self.stack2.append(self.stack1.pop())\n",
    "        return self.stack2.pop()\n",
    "\n",
    "queue = MyQueue()\n",
    "queue.inQueue(1)\n",
    "queue.inQueue(3)\n",
    "queue.inQueue(2)\n",
    "queue.inQueue(4)\n",
    "print(queue.stack1)\n",
    "queue.deQueue()\n",
    "print(queue.stack1)\n",
    "print(queue.stack2)\n",
    "queue.deQueue()\n",
    "print(queue.stack1)\n",
    "print(queue.stack2)\n",
    "queue.inQueue(10)\n",
    "queue.inQueue(12)\n",
    "queue.deQueue()\n",
    "print(queue.stack1)\n",
    "print(queue.stack2)\n",
    "queue.deQueue()\n",
    "print(queue.stack1)\n",
    "print(queue.stack2)\n",
    "queue.deQueue()\n",
    "print(queue.stack1)\n",
    "print(queue.stack2)\n",
    "queue.deQueue()\n",
    "queue.deQueue() # 빈 큐에서 꺼내기"
   ]
  },
  {
   "cell_type": "code",
   "execution_count": null,
   "metadata": {},
   "outputs": [],
   "source": []
  }
 ],
 "metadata": {
  "kernelspec": {
   "display_name": "Python 3",
   "language": "python",
   "name": "python3"
  },
  "language_info": {
   "codemirror_mode": {
    "name": "ipython",
    "version": 3
   },
   "file_extension": ".py",
   "mimetype": "text/x-python",
   "name": "python",
   "nbconvert_exporter": "python",
   "pygments_lexer": "ipython3",
   "version": "3.7.6"
  }
 },
 "nbformat": 4,
 "nbformat_minor": 4
}
