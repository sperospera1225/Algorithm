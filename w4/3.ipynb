{
 "cells": [
  {
   "cell_type": "code",
   "execution_count": 14,
   "metadata": {},
   "outputs": [
    {
     "name": "stdout",
     "output_type": "stream",
     "text": [
      "['Prodo님이 들어왔습니다.', 'Ryan님이 들어왔습니다.', 'Prodo님이 나갔습니다.', 'Prodo님이 들어왔습니다.']\n"
     ]
    }
   ],
   "source": [
    "def solution(record):\n",
    "    answer = []\n",
    "    result = []\n",
    "    dict_name = {}\n",
    "    for rec in record:\n",
    "        if rec.split()[0] == \"Enter\":\n",
    "            answer.append(rec.split()[1]+\"님이 들어왔습니다.\")\n",
    "            dict_name[rec.split()[1]]=rec.split()[2]\n",
    "        elif rec.split()[0] == \"Leave\":\n",
    "            answer.append(rec.split()[1]+\"님이 나갔습니다.\")\n",
    "        elif rec.split()[0] == \"Change\":\n",
    "            dict_name[rec.split()[1]]=rec.split()[2]\n",
    "    for a in answer:\n",
    "        tmp = a.split(\"님이\")[0]\n",
    "        if tmp in dict_name.keys():\n",
    "            a = a.replace(tmp, dict_name[tmp])\n",
    "            result.append(a)\n",
    "    return result\n",
    "\n",
    "if __name__==\"__main__\":\n",
    "    record = [\"Enter uid1234 Muzi\", \"Enter uid4567 Prodo\",\"Leave uid1234\",\"Enter uid1234 Prodo\",\"Change uid4567 Ryan\"]\n",
    "    print(solution(record))"
   ]
  },
  {
   "cell_type": "code",
   "execution_count": null,
   "metadata": {},
   "outputs": [],
   "source": [
    "def solution(record):\n",
    "    answer = []\n",
    "    user_dict = dict()\n",
    "    message = [\"님이 들어왔습니다.\", \"님이 나갔습니다.\"]\n",
    "    temp = []\n",
    "\n",
    "    for r in record:\n",
    "        enter = r.split()\n",
    "\n",
    "        if enter[0] == 'Enter':\n",
    "            user_dict[enter[1]] = enter[2]\n",
    "            temp.append(enter[1], 0)\n",
    "        elif enter[1] == 'Leave':\n",
    "            temp.append(enter[1], 1)\n",
    "        else:\n",
    "            user_dict[enter[1]] = enter[2]\n",
    "\n",
    "    for t in temp:\n",
    "        answer.append(user_dict[t[0]]+message[t[1]])\n",
    "\n",
    "    return answer "
   ]
  }
 ],
 "metadata": {
  "kernelspec": {
   "display_name": "Python 3",
   "language": "python",
   "name": "python3"
  },
  "language_info": {
   "codemirror_mode": {
    "name": "ipython",
    "version": 3
   },
   "file_extension": ".py",
   "mimetype": "text/x-python",
   "name": "python",
   "nbconvert_exporter": "python",
   "pygments_lexer": "ipython3",
   "version": "3.7.6"
  }
 },
 "nbformat": 4,
 "nbformat_minor": 4
}
