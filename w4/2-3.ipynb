{
 "cells": [
  {
   "cell_type": "code",
   "execution_count": 12,
   "metadata": {},
   "outputs": [
    {
     "name": "stdout",
     "output_type": "stream",
     "text": [
      "[10, 30, 90, 50]\n",
      "[20]\n",
      "-----------\n",
      "[10, 30, 90]\n",
      "[20, 50]\n",
      "-----------\n",
      "[10, 30]\n",
      "[20, 50, 90]\n",
      "-----------\n",
      "[10, 90, 50]\n",
      "[20, 30]\n",
      "-----------\n",
      "[10, 90]\n",
      "[20, 30, 50]\n",
      "-----------\n",
      "[10]\n",
      "[20, 30, 50, 90]\n",
      "-----------\n",
      "[90, 50, 30, 20]\n",
      "[10]\n",
      "-----------\n",
      "[90, 50, 30]\n",
      "[10, 20]\n",
      "-----------\n",
      "[90, 50]\n",
      "[10, 20, 30]\n",
      "-----------\n",
      "[90]\n",
      "[10, 20, 30, 50]\n",
      "-----------\n",
      "[]\n",
      "[10, 20, 30, 50, 90]\n",
      "-----------\n"
     ]
    }
   ],
   "source": [
    "# 3) 스택 정렬 : 가장 작은 값이 위로 오도록 스택을 정렬하는 프로그램을 작성하라. \n",
    "# 추가적으로 하나 정도의 스택은 사용해도 괜찮지만, 스택에 보관된 요소를 배열 등의 다른 자료구조로 복사할 수는 없다. \n",
    "# 스택은 push, pop, peek, isEmpty의 네 가지 연산을 제공해야 한다.\n",
    "class Stack():\n",
    "    def __init__(self):\n",
    "        self.data = []\n",
    "\n",
    "    def push(self, x):\n",
    "        self.data.append(x)\n",
    "\n",
    "    def pop(self):\n",
    "        if self.isEmpty():\n",
    "            raise EmptyStackError\n",
    "        else:\n",
    "            return self.data.pop()\n",
    "\n",
    "    def peek(self):\n",
    "        if self.isEmpty():\n",
    "            raise EmptyStackError\n",
    "        else:\n",
    "            return self.data[-1]\n",
    "\n",
    "    def isEmpty(self):\n",
    "        return len(self.data) == 0\n",
    "\n",
    "stack = Stack()\n",
    "stack.push(10)\n",
    "stack.push(30)\n",
    "stack.push(90)\n",
    "stack.push(50)\n",
    "stack.push(20)\n",
    "\n",
    "def stackSort(stack):\n",
    "    stackTemp = Stack() # 정렬을 위해 사용되는 임시 스택\n",
    "    while stack.isEmpty() == False: # 스택이 빌 때까지 반복\n",
    "        temp = stack.pop()\n",
    "        while stackTemp.isEmpty() == False and stackTemp.peek() > temp: # 임시스택의 top값이 스택의 top값보다 클 때\n",
    "            stack.push(stackTemp.pop()) # 임시스택의 top 값을 stack에 넣어줌\n",
    "        stackTemp.push(temp) # 임시스택의 top 값이 스택의 top값보다 작을때는 임시스택에 스택의 top값을 넣어줌\n",
    "        print(stack.data)\n",
    "        print(stackTemp.data)\n",
    "        print('-----------')\n",
    "    while stackTemp.isEmpty() == False: # 반복문을 다 돌고나서 임시스택이 아직 값이 남아있으면\n",
    "        stack.push(stackTemp.pop()) # 스택에 다 넣어줌\n",
    "    \n",
    "    #print(stack.data)\n",
    "\n",
    "stackSort(stack)\n",
    "\n"
   ]
  },
  {
   "cell_type": "code",
   "execution_count": null,
   "metadata": {},
   "outputs": [],
   "source": []
  }
 ],
 "metadata": {
  "kernelspec": {
   "display_name": "Python 3",
   "language": "python",
   "name": "python3"
  },
  "language_info": {
   "codemirror_mode": {
    "name": "ipython",
    "version": 3
   },
   "file_extension": ".py",
   "mimetype": "text/x-python",
   "name": "python",
   "nbconvert_exporter": "python",
   "pygments_lexer": "ipython3",
   "version": "3.7.6"
  }
 },
 "nbformat": 4,
 "nbformat_minor": 4
}
