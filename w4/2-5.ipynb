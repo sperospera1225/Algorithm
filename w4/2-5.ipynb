{
 "cells": [
  {
   "cell_type": "code",
   "execution_count": 11,
   "metadata": {},
   "outputs": [
    {
     "name": "stdout",
     "output_type": "stream",
     "text": [
      "24\n"
     ]
    }
   ],
   "source": [
    "# BAEKJOON 10799 쇠막대기\n",
    "# https://www.acmicpc.net/problem/10799\n",
    "\n",
    "# STACK을 이용하지 않은 직관적인 풀이\n",
    "pipe1 = \"()(((()())(())()))(())\" # --> 17\n",
    "pipe2 = \"(((()(()()))(())()))(()())\" # --> 24\n",
    "\n",
    "open_bracket_count = 0\n",
    "split_pipe_number = 0\n",
    "\n",
    "for i in range(len(pipe)):\n",
    "    if pipe[i] == '(':\n",
    "        open_bracket_count += 1\n",
    "        #print(open_bracket_count)\n",
    "    elif pipe[i] == ')':\n",
    "        if pipe[i-1] == '(':\n",
    "            open_bracket_count -= 1\n",
    "            split_pipe_number += open_bracket_count\n",
    "        else:\n",
    "            open_bracket_count -= 1\n",
    "            split_pipe_number += 1\n",
    "\n",
    "print(split_pipe_number)"
   ]
  },
  {
   "cell_type": "code",
   "execution_count": null,
   "metadata": {},
   "outputs": [],
   "source": [
    "'''\n",
    "1. '(' 이면 push\n",
    "2. '()' 이면 pop, 레이저에 의해서 쇠막대기 있는거 다 한번씩 잘림. 즉 조각 개수 stack에 들어있는 '('의 개수만큼 더해줌\n",
    "3. ')' 이면 pop, 그냥 쇠막대기 하나가 끝났다는 뜻이니까 1만큼만 더해줌\n",
    "'''\n",
    "\n",
    "pipe = list(input())\n",
    "result = 0\n",
    "stack = []\n",
    "\n",
    "for i in range(len(pipe)):\n",
    "    if pipe[i] == '(':\n",
    "        stack.append('(')\n",
    "    elif pipe[i] == ')':\n",
    "        if pipe[i - 1] == '(':\n",
    "            stack.pop()\n",
    "            result += len(stack)\n",
    "        else:\n",
    "            stack.pop()\n",
    "            result += 1\n",
    "            \n",
    "print(result)"
   ]
  }
 ],
 "metadata": {
  "kernelspec": {
   "display_name": "Python 3",
   "language": "python",
   "name": "python3"
  },
  "language_info": {
   "codemirror_mode": {
    "name": "ipython",
    "version": 3
   },
   "file_extension": ".py",
   "mimetype": "text/x-python",
   "name": "python",
   "nbconvert_exporter": "python",
   "pygments_lexer": "ipython3",
   "version": "3.7.6"
  }
 },
 "nbformat": 4,
 "nbformat_minor": 4
}
