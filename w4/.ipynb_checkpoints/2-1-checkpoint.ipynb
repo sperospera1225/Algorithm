{
 "cells": [
  {
   "cell_type": "code",
   "execution_count": 33,
   "metadata": {},
   "outputs": [
    {
     "name": "stdout",
     "output_type": "stream",
     "text": [
      "[5]\n",
      "[10, 5]\n",
      "[10, 5, 3]\n",
      "[11, 10, 5, 3]\n",
      "[11, 10, 5, 3, 2]\n",
      "[11, 10, 5, 5, 3, 2]\n",
      "[11, 10, 5, 5, 3, 3, 2]\n",
      "[11, 10, 5, 5, 3, 2]\n"
     ]
    },
    {
     "data": {
      "text/plain": [
       "2"
      ]
     },
     "execution_count": 33,
     "metadata": {},
     "output_type": "execute_result"
    }
   ],
   "source": [
    "# 1) 스택 Min : 기본적인 push 기능과 pop 기능이 구현된 스택에서 최솟값을 반환하는 min 함수를 추가하려고 한다. \n",
    "# 어떻게 설계할 수 있겠는가? push, pop, min 연산은 모두 O(1) 시간에 동작해야 한다.\n",
    "\n",
    "class Stack:\n",
    "    def __init__(self):\n",
    "        self.list = list()\n",
    "        self.minstack = list()\n",
    "        \n",
    "    def push(self, data):\n",
    "        if len(self.list) == 0:\n",
    "            self.minstack.append(data)\n",
    "        else:\n",
    "            a = list()\n",
    "            while (self.minstack[-1] <= data):\n",
    "                a.append(self.minstack.pop())\n",
    "                #print(a)\n",
    "                if len(self.minstack) == 0:\n",
    "                    break\n",
    "            self.minstack.append(data)\n",
    "            for i in range(len(a)-1,-1,-1):\n",
    "                self.minstack.append(a[i])\n",
    "        print(self.minstack)\n",
    "        self.list.append(data)\n",
    "            \n",
    "            \n",
    "    def pop(self):\n",
    "        self.minstack.remove(self.list[-1])\n",
    "        print(self.minstack)\n",
    "        return self.list.pop()\n",
    "    \n",
    "    def peek(self):\n",
    "        return self.list[-1]\n",
    "    \n",
    "    def size(self):\n",
    "        return len(self.list)\n",
    "    \n",
    "    def is_empty(self):\n",
    "        if len(self.list) == 0:\n",
    "            return True\n",
    "        else:\n",
    "            return False\n",
    "        \n",
    "    def min(self):\n",
    "        return self.minstack[-1]\n",
    "    \n",
    "s = Stack()\n",
    "s.push(5)\n",
    "s.push(10)\n",
    "s.push(3)\n",
    "s.push(11)\n",
    "s.push(2)\n",
    "s.push(5)\n",
    "s.push(3)\n",
    "s.pop()\n",
    "s.min()"
   ]
  },
  {
   "cell_type": "code",
   "execution_count": null,
   "metadata": {},
   "outputs": [],
   "source": []
  }
 ],
 "metadata": {
  "kernelspec": {
   "display_name": "Python 3",
   "language": "python",
   "name": "python3"
  },
  "language_info": {
   "codemirror_mode": {
    "name": "ipython",
    "version": 3
   },
   "file_extension": ".py",
   "mimetype": "text/x-python",
   "name": "python",
   "nbconvert_exporter": "python",
   "pygments_lexer": "ipython3",
   "version": "3.7.6"
  }
 },
 "nbformat": 4,
 "nbformat_minor": 4
}
