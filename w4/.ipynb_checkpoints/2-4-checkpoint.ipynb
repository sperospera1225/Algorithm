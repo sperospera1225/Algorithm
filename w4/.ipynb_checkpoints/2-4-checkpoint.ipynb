{
 "cells": [
  {
   "cell_type": "code",
   "execution_count": 1,
   "metadata": {},
   "outputs": [
    {
     "name": "stdout",
     "output_type": "stream",
     "text": [
      "eeeeeeeeeeeee\n",
      "eeeeeeeeeeeee\n",
      "aaaaaaaaaaaaaaaaa\n",
      "['(', '(']\n",
      "eeeeeeeeeeeee\n",
      "eeeeeeeeeeeee\n",
      "ssssssssssssssssssss\n",
      "aaaaaaaaaaaaaaaaa\n",
      ";;;;;;;;;;;;;\n",
      "['(']\n",
      "eeeeeeeeeeeee\n",
      "eeeeeeeeeeeee\n",
      "6\n"
     ]
    }
   ],
   "source": [
    "def solution(string):\n",
    "    stack = list()\n",
    "    rst = 0\n",
    "    temp_stack = list()\n",
    "    \n",
    "    if len(string) < 1 or len(string) > 30:\n",
    "        return 0\n",
    "    for i in string:\n",
    "        \n",
    "        while stack:\n",
    "            if stack[-1] == '(' or stack[-1] == '[':\n",
    "                temp_stack.append(stack.pop())\n",
    "\n",
    "            elif stack.pop() == ')':\n",
    "                while temp_stack and temp_stack[-1] != '(':\n",
    "\n",
    "\n",
    "\n",
    "            elif stack.pop() == ']':\n",
    "                while  temp_stack and temp_stack[-1] != '[':\n",
    "                \n",
    "                \n",
    "    return rst\n",
    "if __name__==\"__main__\":\n",
    "    r = solution(\"(()[[]])([])\")\n",
    "    print(r)"
   ]
  },
  {
   "cell_type": "code",
   "execution_count": 6,
   "metadata": {},
   "outputs": [
    {
     "name": "stdout",
     "output_type": "stream",
     "text": [
      "28\n"
     ]
    }
   ],
   "source": [
    "string = \"(()[[]])([])\"\n",
    "stack = list()\n",
    "for i in string:\n",
    "     \n",
    "    if i == \")\":\n",
    "        temp = 0\n",
    "        \n",
    "        while stack:\n",
    "            top = stack.pop()\n",
    "            if top == \"(\":\n",
    "                if temp == 0:\n",
    "                    stack.append(2)\n",
    "                else:\n",
    "                    stack.append(2 * temp)\n",
    "                break\n",
    "            elif top == \"[\":\n",
    "                print(\"0\")\n",
    "                exit(0)\n",
    "            else:\n",
    "                if temp == 0:\n",
    "                    temp = int(top)\n",
    "                else:\n",
    "                    temp = temp + int(top)\n",
    " \n",
    "    elif i == \"]\":\n",
    "        temp = 0\n",
    " \n",
    "        while stack:\n",
    "            top = stack.pop()\n",
    "            if top == \"[\":\n",
    "                if temp == 0:\n",
    "                    stack.append(3)\n",
    "                else:\n",
    "                    stack.append(3 * temp)\n",
    "                break\n",
    "            elif top == \"(\":\n",
    "                print(\"0\")\n",
    "                exit(0)\n",
    "            else:\n",
    "                if temp == 0:\n",
    "                    temp = int(top)\n",
    "                else:\n",
    "                    temp = temp + int(top)\n",
    " \n",
    "    else:\n",
    "        stack.append(i)\n",
    " \n",
    "result = 0\n",
    "for i in stack:\n",
    "    if i == \"(\" or i == \"[\":\n",
    "        print(0)\n",
    "        exit(0)\n",
    "    else:\n",
    "        result += i\n",
    " \n",
    "print(result)"
   ]
  },
  {
   "cell_type": "code",
   "execution_count": null,
   "metadata": {},
   "outputs": [],
   "source": []
  }
 ],
 "metadata": {
  "kernelspec": {
   "display_name": "Python 3",
   "language": "python",
   "name": "python3"
  },
  "language_info": {
   "codemirror_mode": {
    "name": "ipython",
    "version": 3
   },
   "file_extension": ".py",
   "mimetype": "text/x-python",
   "name": "python",
   "nbconvert_exporter": "python",
   "pygments_lexer": "ipython3",
   "version": "3.7.6"
  }
 },
 "nbformat": 4,
 "nbformat_minor": 4
}
