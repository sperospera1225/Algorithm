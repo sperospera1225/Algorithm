{
 "cells": [
  {
   "cell_type": "code",
   "execution_count": null,
   "metadata": {},
   "outputs": [],
   "source": [
    "class Solution:\n",
    "    def checkIfPangram(self, sentence: str) -> bool:\n",
    "        check_duplicate = set()\n",
    "        for i in range(len(sentence)):\n",
    "            check_duplicate.add(sentence[i])\n",
    "        # print(len(check_duplicate))\n",
    "        # print(len(sentence))\n",
    "        if len(check_duplicate) == 26:\n",
    "            return True\n",
    "        else:\n",
    "            return False\n",
    "\n",
    "\n",
    "if __name__=='__main__':\n",
    "    sentence = input().strip()\n",
    "    # python instance create\n",
    "    s = Solution()\n",
    "    s.checkIfPangram(sentence)"
   ]
  }
 ],
 "metadata": {
  "kernelspec": {
   "display_name": "Python 3",
   "language": "python",
   "name": "python3"
  },
  "language_info": {
   "codemirror_mode": {
    "name": "ipython",
    "version": 3
   },
   "file_extension": ".py",
   "mimetype": "text/x-python",
   "name": "python",
   "nbconvert_exporter": "python",
   "pygments_lexer": "ipython3",
   "version": "3.7.6"
  }
 },
 "nbformat": 4,
 "nbformat_minor": 4
}
