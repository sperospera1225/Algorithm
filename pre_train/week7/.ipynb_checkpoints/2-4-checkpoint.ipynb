{
 "cells": [
  {
   "cell_type": "code",
   "execution_count": 6,
   "metadata": {},
   "outputs": [
    {
     "name": "stdout",
     "output_type": "stream",
     "text": [
      "[7, 5]\n"
     ]
    }
   ],
   "source": [
    "import heapq\n",
    "def solution(operations):\n",
    "    queue=[]\n",
    "    for operation in operations:\n",
    "        operator, operand = operation.split()\n",
    "        operand = int(operand)\n",
    "        if operator == 'I':\n",
    "            heapq.heappush(queue, operand)\n",
    "        elif queue:\n",
    "            if operand > 0:\n",
    "                queue.remove(max(queue))\n",
    "            else:\n",
    "                heapq.heappop(queue)\n",
    "    if queue:\n",
    "        return [max(queue), queue[0]]\n",
    "    else:\n",
    "        return [0,0]\n",
    "\n",
    "if __name__ == \"__main__\":\n",
    "    print(solution([\"I 7\",\"I 5\",\"I -5\",\"D -1\"]))"
   ]
  },
  {
   "cell_type": "code",
   "execution_count": null,
   "metadata": {},
   "outputs": [],
   "source": []
  }
 ],
 "metadata": {
  "kernelspec": {
   "display_name": "Python 3",
   "language": "python",
   "name": "python3"
  },
  "language_info": {
   "codemirror_mode": {
    "name": "ipython",
    "version": 3
   },
   "file_extension": ".py",
   "mimetype": "text/x-python",
   "name": "python",
   "nbconvert_exporter": "python",
   "pygments_lexer": "ipython3",
   "version": "3.7.6"
  }
 },
 "nbformat": 4,
 "nbformat_minor": 4
}
