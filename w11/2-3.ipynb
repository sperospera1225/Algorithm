{
 "cells": [
  {
   "cell_type": "code",
   "execution_count": 4,
   "id": "50de4ecd",
   "metadata": {},
   "outputs": [
    {
     "name": "stdout",
     "output_type": "stream",
     "text": [
      "5 1 1\n",
      "1 2 2\n",
      "1 3 3\n",
      "2 3 4\n",
      "2 4 5\n",
      "3 4 6\n",
      "0\n",
      "2\n",
      "3\n",
      "7\n",
      "INF\n"
     ]
    }
   ],
   "source": [
    "import heapq\n",
    "\n",
    "INF = sys.maxsize\n",
    "V,E = 5, 6\n",
    "\n",
    "G=[[]for _ in range(V+1)]\n",
    "K=1\n",
    "\n",
    "for _ in range(E):\n",
    "    start, end, distance = map(int, input().split())\n",
    "    G[start].append([distance, end])\n",
    "\n",
    "result = [INF for _ in range(V+1)]\n",
    "result[K] = 0\n",
    "\n",
    "q=[]\n",
    "heapq.heappush(q,[0,K])\n",
    "\n",
    "while q:\n",
    "    dis, end = heapq.heappop(q)\n",
    "    \n",
    "    if result[end]<dis:\n",
    "        continue\n",
    "    \n",
    "    for d,x in G[end]:\n",
    "        d += dis\n",
    "        if d<result[x]:\n",
    "            result[x]=d\n",
    "            heapq.heappush(q,[d,x])\n",
    "            \n",
    "for i in range(1, V+1):\n",
    "    print(result[i] if result[i]!=INF else \"INF\")"
   ]
  },
  {
   "cell_type": "code",
   "execution_count": null,
   "id": "e888270e",
   "metadata": {},
   "outputs": [],
   "source": []
  }
 ],
 "metadata": {
  "kernelspec": {
   "display_name": "Python 3",
   "language": "python",
   "name": "python3"
  },
  "language_info": {
   "codemirror_mode": {
    "name": "ipython",
    "version": 3
   },
   "file_extension": ".py",
   "mimetype": "text/x-python",
   "name": "python",
   "nbconvert_exporter": "python",
   "pygments_lexer": "ipython3",
   "version": "3.7.10"
  }
 },
 "nbformat": 4,
 "nbformat_minor": 5
}
