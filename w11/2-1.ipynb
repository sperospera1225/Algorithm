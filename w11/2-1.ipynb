{
 "cells": [
  {
   "cell_type": "code",
   "execution_count": 8,
   "id": "299f7e75",
   "metadata": {},
   "outputs": [
    {
     "name": "stdout",
     "output_type": "stream",
     "text": [
      "5 17\n",
      "4\n"
     ]
    }
   ],
   "source": [
    "from collections import deque\n",
    "\n",
    "def bfs(n, k):\n",
    "    q = deque()\n",
    "    q.append(n)\n",
    "    while q:\n",
    "        x = q.popleft()\n",
    "        if x == k:\n",
    "            print(dist[x])\n",
    "            break\n",
    "        for xc in (x-1, x+1, x*2):\n",
    "            if 0<=xc<=100000 and dist[xc]==0:\n",
    "                dist[xc] = dist[x] + 1\n",
    "                q.append(xc)\n",
    "    \n",
    "dist = [0]*100001 # 이동거리를 담는 배열\n",
    "n, k = map(int, input().split())\n",
    "bfs(n, k)"
   ]
  }
 ],
 "metadata": {
  "kernelspec": {
   "display_name": "Python 3",
   "language": "python",
   "name": "python3"
  },
  "language_info": {
   "codemirror_mode": {
    "name": "ipython",
    "version": 3
   },
   "file_extension": ".py",
   "mimetype": "text/x-python",
   "name": "python",
   "nbconvert_exporter": "python",
   "pygments_lexer": "ipython3",
   "version": "3.7.10"
  }
 },
 "nbformat": 4,
 "nbformat_minor": 5
}
