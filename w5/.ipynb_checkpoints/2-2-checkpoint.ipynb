{
 "cells": [
  {
   "cell_type": "code",
   "execution_count": 5,
   "metadata": {},
   "outputs": [
    {
     "name": "stdout",
     "output_type": "stream",
     "text": [
      "[5, 10, 2, 3, 20, 1]\n",
      "2\n",
      "3\n",
      "1\n"
     ]
    },
    {
     "data": {
      "text/plain": [
       "[1, 3, 2]"
      ]
     },
     "execution_count": 5,
     "metadata": {},
     "output_type": "execute_result"
    }
   ],
   "source": [
    "'''\n",
    "https://programmers.co.kr/learn/courses/30/lessons/42586\n",
    "'''\n",
    "def solution(progresses, speeds):\n",
    "    answer = []\n",
    "    temp = []\n",
    "    for i, j in zip(progresses, speeds):\n",
    "        if (100-i)%j == 0:\n",
    "            temp.append((100-i)//j)\n",
    "        else:\n",
    "            temp.append((100-i)//j + 1)\n",
    "    cnt = 1\n",
    "    print(temp)\n",
    "    while temp:\n",
    "        curr = temp.pop(0)\n",
    "        while temp and curr >= temp[0]:\n",
    "            print(temp[0])\n",
    "            cnt += 1\n",
    "            temp.pop(0)\n",
    "        answer.append(cnt)\n",
    "        cnt = 1\n",
    "    return answer\n",
    "\n",
    "solution([95, 90, 98, 97, 80, 99], [1, 1, 1, 1, 1, 1])"
   ]
  },
  {
   "cell_type": "code",
   "execution_count": null,
   "metadata": {},
   "outputs": [],
   "source": []
  }
 ],
 "metadata": {
  "kernelspec": {
   "display_name": "Python 3",
   "language": "python",
   "name": "python3"
  },
  "language_info": {
   "codemirror_mode": {
    "name": "ipython",
    "version": 3
   },
   "file_extension": ".py",
   "mimetype": "text/x-python",
   "name": "python",
   "nbconvert_exporter": "python",
   "pygments_lexer": "ipython3",
   "version": "3.7.6"
  }
 },
 "nbformat": 4,
 "nbformat_minor": 4
}
