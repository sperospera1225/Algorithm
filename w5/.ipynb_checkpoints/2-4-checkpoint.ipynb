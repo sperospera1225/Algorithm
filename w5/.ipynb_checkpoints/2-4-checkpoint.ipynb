{
 "cells": [
  {
   "cell_type": "code",
   "execution_count": 3,
   "metadata": {},
   "outputs": [
    {
     "name": "stdout",
     "output_type": "stream",
     "text": [
      "35\n"
     ]
    }
   ],
   "source": [
    "# n = int(input())\n",
    "# matrix = []\n",
    "# for i in range(n):\n",
    "#     m = list(map(int, input().split()))\n",
    "#     matrix.append(m)\n",
    "import heapq\n",
    "hq = []\n",
    "n = 5\n",
    "matrix = [[12,7,9,15,5], [13, 8, 11, 19, 6], [21, 10, 26, 31, 16], [48, 14, 28, 35, 25], [52, 20, 32, 41, 49]]\n",
    "for i in range(n):\n",
    "    for j in range(n):\n",
    "        heapq.heappush(hq, -matrix[i][j])\n",
    "\n",
    "for i in range(n):\n",
    "    a = heapq.heappop(hq)\n",
    "print(-a)"
   ]
  },
  {
   "cell_type": "code",
   "execution_count": null,
   "metadata": {},
   "outputs": [],
   "source": []
  }
 ],
 "metadata": {
  "kernelspec": {
   "display_name": "Python 3",
   "language": "python",
   "name": "python3"
  },
  "language_info": {
   "codemirror_mode": {
    "name": "ipython",
    "version": 3
   },
   "file_extension": ".py",
   "mimetype": "text/x-python",
   "name": "python",
   "nbconvert_exporter": "python",
   "pygments_lexer": "ipython3",
   "version": "3.7.6"
  }
 },
 "nbformat": 4,
 "nbformat_minor": 4
}
