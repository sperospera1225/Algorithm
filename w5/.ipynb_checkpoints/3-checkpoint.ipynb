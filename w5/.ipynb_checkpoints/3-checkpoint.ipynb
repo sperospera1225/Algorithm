{
 "cells": [
  {
   "cell_type": "code",
   "execution_count": 16,
   "metadata": {},
   "outputs": [
    {
     "name": "stdout",
     "output_type": "stream",
     "text": [
      "[3, 4, 2, 1, 5]\n"
     ]
    }
   ],
   "source": [
    "def solution(N, stages):\n",
    "    answer = {}\n",
    "    stage_count = [0]*(N+1)\n",
    "    for stage in stages:\n",
    "        stage_count[stage-1] += 1\n",
    "    for i in range(len(stage_count)-1):\n",
    "        a = sum(stage_count)\n",
    "        fail_ratio = stage_count[0]/a\n",
    "        answer[i+1] = fail_ratio\n",
    "        stage_count.pop(0)\n",
    "#     answer = sorted(answer.items(), key=lambda x:x[1], reverse=True)\n",
    "#     return [a[0] for a in answer]\n",
    "\n",
    "    answer = sorted(answer, key=lambda x: answer[x], reverse=True)\n",
    "    return answer\n",
    "\n",
    "r = solution(5, [2, 1, 2, 6, 2, 4, 3, 3])\n",
    "print(r)"
   ]
  },
  {
   "cell_type": "code",
   "execution_count": 14,
   "metadata": {},
   "outputs": [
    {
     "name": "stdout",
     "output_type": "stream",
     "text": [
      "{1: 0.125, 2: 0.42857142857142855, 3: 0.5, 4: 0.5, 5: 0}\n",
      "[3, 4, 2, 1, 5]\n"
     ]
    }
   ],
   "source": [
    "# best solution\n",
    "def solution(N, stages):\n",
    "    answer = []\n",
    "    user_dict = dict()\n",
    "    user_n = len(stages)\n",
    "\n",
    "    for idx in range(1, N+1):\n",
    "        count_user = stages.count(idx)\n",
    "\n",
    "        if count_user == 0:\n",
    "            user_dict[idx] = 0\n",
    "            continue\n",
    "        user_dict[idx] = count_user/user_n\n",
    "        user_n -= count_user\n",
    "    print(user_dict)\n",
    "    answer = sorted(user_dict, key=lambda x: user_dict[x], reverse=True)\n",
    "    \n",
    "    return answer\n",
    "\n",
    "r = solution(5, [2, 1, 2, 6, 2, 4, 3, 3])\n",
    "print(r)"
   ]
  },
  {
   "cell_type": "code",
   "execution_count": null,
   "metadata": {},
   "outputs": [],
   "source": [
    "# use operator to better time complexity than lambda x\n",
    "import operator\n",
    "def solution(N, stages):\n",
    "    answer = []\n",
    "    answers={}\n",
    "    for i in range(1,N+1):\n",
    "        s=0 # start\n",
    "        f=0 # finish\n",
    "        for j in stages:\n",
    "            if j>i:\n",
    "                f+=1\n",
    "            elif j==i:\n",
    "                s+=1\n",
    "        if s+f ==0:\n",
    "            answers[i]=0\n",
    "        else:\n",
    "            answers[i] = s/(s+f)\n",
    "    answers = sorted(answers.items(),key=operator.itemgetter(1),reverse=True)\n",
    "    #print(answers)\n",
    "    for i in answers:\n",
    "        answer.append(i[0])\n",
    "    return answer"
   ]
  }
 ],
 "metadata": {
  "kernelspec": {
   "display_name": "Python 3",
   "language": "python",
   "name": "python3"
  },
  "language_info": {
   "codemirror_mode": {
    "name": "ipython",
    "version": 3
   },
   "file_extension": ".py",
   "mimetype": "text/x-python",
   "name": "python",
   "nbconvert_exporter": "python",
   "pygments_lexer": "ipython3",
   "version": "3.7.6"
  }
 },
 "nbformat": 4,
 "nbformat_minor": 4
}
