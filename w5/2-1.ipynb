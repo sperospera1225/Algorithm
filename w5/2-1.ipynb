{
 "cells": [
  {
   "cell_type": "code",
   "execution_count": 6,
   "metadata": {},
   "outputs": [
    {
     "name": "stdout",
     "output_type": "stream",
     "text": [
      "5\n",
      "6 9 5 7 4\n",
      "0 0 2 2 4 "
     ]
    }
   ],
   "source": [
    "# 1)\n",
    "'''\n",
    "https://www.acmicpc.net/problem/2493\n",
    "'''\n",
    "n = int(input())\n",
    "top = list(map(int, input().split()))\n",
    "temp_stack = []\n",
    "answer = []\n",
    "while top:\n",
    "    tmp = top.pop()\n",
    "    if len(top)==0:\n",
    "        break\n",
    "    elif tmp < top[-1]:\n",
    "        answer.append(len(top))\n",
    "    else:\n",
    "        while top[-1] < tmp and len(top)!=0:\n",
    "            temp_stack.append(top.pop())\n",
    "            if len(top)==0:\n",
    "                answer.append(0)\n",
    "                break\n",
    "        answer.append(len(top))\n",
    "        while temp_stack:\n",
    "            top.append(temp_stack.pop())\n",
    "            \n",
    "answer.reverse()\n",
    "for i in answer:\n",
    "    print(i, end=' ')"
   ]
  },
  {
   "cell_type": "code",
   "execution_count": 8,
   "metadata": {},
   "outputs": [
    {
     "name": "stdout",
     "output_type": "stream",
     "text": [
      "5\n",
      "6 9 5 7 4\n",
      "[]\n",
      "[]\n",
      "[[0, 6]]\n",
      "[0]\n",
      "6 > 9\n",
      "[[1, 9]]\n",
      "[0, 0]\n",
      "9 > 5\n",
      "[[1, 9], [2, 5]]\n",
      "[0, 0, 2]\n",
      "5 > 7\n",
      "9 > 7\n",
      "[[1, 9], [3, 7]]\n",
      "[0, 0, 2, 2]\n",
      "7 > 4\n",
      "0 0 2 2 4 "
     ]
    }
   ],
   "source": [
    "n = int(input())\n",
    "top = list(map(int,input().split()))\n",
    "stack = []\n",
    "result = []\n",
    "\n",
    "for i in range(n):\n",
    "    print(stack)\n",
    "    print(result)\n",
    "    while stack:\n",
    "        print(stack[-1][1],\">\", top[i])\n",
    "        if stack[-1][1] > top[i]:  # [-1][1] 이므로 stack 맨 끝쪽에서 1번째 배열에서 1번째 데이터를 top[i]와 비교\n",
    "            result.append(stack[-1][0] + 1)  # 배열은 0번째부터, 수신탑은 1번부터 시작하므로 수를 맞춰주고 result에 데이터 추가하기\n",
    "            break\n",
    "        stack.pop()  # 배열의 맨 끝 데이터 비우기\n",
    "\n",
    "    if not stack:\n",
    "        result.append(0)  # 스택이 비면 레이저를 수신한 탑이 없다는 뜻이므로 result에 \"0\" 데이터 추가\n",
    "\n",
    "    stack.append([i, top[i]])  # 스택에 현재 신호탑 데이터 추가\n",
    "\n",
    "for i in range(n):\n",
    "        print(result[i], end=' ')"
   ]
  },
  {
   "cell_type": "code",
   "execution_count": 10,
   "metadata": {},
   "outputs": [
    {
     "name": "stdout",
     "output_type": "stream",
     "text": [
      "5\n",
      "6 9 5 7 4\n",
      "====================== 4 =====================\n",
      "[4]\n",
      "====================== 3 =====================\n",
      "[4]\n",
      "[]\n",
      "res [0, 0, 0, 0, 4]\n",
      "[3]\n",
      "====================== 2 =====================\n",
      "[3, 2]\n",
      "====================== 1 =====================\n",
      "[3, 2]\n",
      "[3]\n",
      "res [0, 0, 2, 0, 4]\n",
      "[3]\n",
      "[]\n",
      "res [0, 0, 2, 2, 4]\n",
      "[1]\n",
      "====================== 0 =====================\n",
      "[1, 0]\n",
      "0 0 2 2 4\n"
     ]
    }
   ],
   "source": [
    "n = int(input())\n",
    "tower = list(map(int, input().split()))\n",
    "stack = []\n",
    "res = [0]*n\n",
    "\n",
    "for i in range(n-1, -1, -1):\n",
    "    print(\"======================\",i,\"=====================\")\n",
    "    while stack and tower[stack[-1]] < tower[i]:\n",
    "        print(stack)\n",
    "        tmp = stack.pop()\n",
    "        res[tmp] = i+1\n",
    "        print(stack)\n",
    "        print(\"res\", res)\n",
    "    stack.append(i)\n",
    "    print(stack)\n",
    "print(*res) "
   ]
  },
  {
   "cell_type": "code",
   "execution_count": null,
   "metadata": {},
   "outputs": [],
   "source": []
  }
 ],
 "metadata": {
  "kernelspec": {
   "display_name": "Python 3",
   "language": "python",
   "name": "python3"
  },
  "language_info": {
   "codemirror_mode": {
    "name": "ipython",
    "version": 3
   },
   "file_extension": ".py",
   "mimetype": "text/x-python",
   "name": "python",
   "nbconvert_exporter": "python",
   "pygments_lexer": "ipython3",
   "version": "3.7.6"
  }
 },
 "nbformat": 4,
 "nbformat_minor": 4
}
