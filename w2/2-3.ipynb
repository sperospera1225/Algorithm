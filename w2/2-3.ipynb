{
 "cells": [
  {
   "cell_type": "code",
   "execution_count": 4,
   "metadata": {},
   "outputs": [
    {
     "name": "stdout",
     "output_type": "stream",
     "text": [
      "[0, 1, 2, 3, 4]\n",
      "5\n"
     ]
    }
   ],
   "source": [
    "# 3) https://leetcode.com/explore/learn/card/fun-with-arrays/526/deleting-items-from-an-array/3248/\n",
    "\n",
    "'''\n",
    "Given a sorted array nums, remove the duplicates in-place such that each element appears only once and returns the new length.\n",
    "Do not allocate extra space for another array, you must do this by modifying the input array in-place with O(1) extra memory.\n",
    "'''\n",
    "\n",
    "class Solution:\n",
    "    def removeDuplicates(self, nums):\n",
    "        \"\"\"\n",
    "        :type nums: List[int]\n",
    "        :rtype: int\n",
    "        \"\"\"\n",
    "        rst = []\n",
    "        ptr = 1\n",
    "        if len(nums)==0:\n",
    "            return 0\n",
    "        rst.append(nums[0])\n",
    "        for i in range(1,len(nums)):\n",
    "            if nums[i-1] != nums[i]:\n",
    "                rst.append(nums[i])\n",
    "                ptr +=1\n",
    "        print(rst)\n",
    "        return ptr\n",
    "    \n",
    "    \n",
    "if __name__=='__main__':\n",
    "    s = Solution()\n",
    "    print(s.removeDuplicates([0,0,1,1,1,2,2,3,3,4]))"
   ]
  },
  {
   "cell_type": "code",
   "execution_count": null,
   "metadata": {},
   "outputs": [],
   "source": []
  }
 ],
 "metadata": {
  "kernelspec": {
   "display_name": "Python 3",
   "language": "python",
   "name": "python3"
  },
  "language_info": {
   "codemirror_mode": {
    "name": "ipython",
    "version": 3
   },
   "file_extension": ".py",
   "mimetype": "text/x-python",
   "name": "python",
   "nbconvert_exporter": "python",
   "pygments_lexer": "ipython3",
   "version": "3.7.6"
  }
 },
 "nbformat": 4,
 "nbformat_minor": 4
}
