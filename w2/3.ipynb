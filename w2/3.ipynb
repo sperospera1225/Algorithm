{
 "cells": [
  {
   "cell_type": "code",
   "execution_count": 6,
   "metadata": {},
   "outputs": [
    {
     "name": "stdout",
     "output_type": "stream",
     "text": [
      "14\n"
     ]
    }
   ],
   "source": [
    "# 압축할 문자열 s가 매개변수로 주어질 때, 위에 설명한 방법으로 1개 이상 단위로 문자열을 잘라 압축하여 표현한 문자열 중 가장 짧은 것의 길이를 return 하도록 solution 함수를 완성해주세요.\n",
    "# https://programmers.co.kr/learn/courses/30/lessons/60057\n",
    "\n",
    "def solution(s):\n",
    "    answer = len(s)\n",
    "    res = ''\n",
    "    \n",
    "    if len(s)==1:\n",
    "        return 1\n",
    "    \n",
    "    for i in range(1, len(s)//2+1):\n",
    "        temp = s[0:i]\n",
    "        cnt = 1\n",
    "        for j in range(i, len(s), i):\n",
    "            if s[j:j+i] == temp:\n",
    "                cnt += 1\n",
    "            else:\n",
    "                if cnt == 1:\n",
    "                    res += temp\n",
    "                else:\n",
    "                    res += str(cnt)+temp\n",
    "                temp = s[j:j+i]\n",
    "                cnt = 1\n",
    "        if cnt == 1:\n",
    "            res += temp\n",
    "        else:\n",
    "            res += str(cnt)+temp\n",
    "        answer = min(answer, len(res))\n",
    "        res = ''\n",
    "    \n",
    "    return answer\n",
    "\n",
    "if __name__ == \"__main__\":\n",
    "    print(solution(\"abcabcabcabcdededededede\"))"
   ]
  },
  {
   "cell_type": "code",
   "execution_count": 7,
   "metadata": {},
   "outputs": [
    {
     "name": "stdout",
     "output_type": "stream",
     "text": [
      "1\n",
      "4\n",
      "7\n",
      "10\n",
      "13\n",
      "16\n",
      "19\n"
     ]
    }
   ],
   "source": [
    "for i in range(1, 20, 3):\n",
    "    print(i)"
   ]
  },
  {
   "cell_type": "code",
   "execution_count": null,
   "metadata": {},
   "outputs": [],
   "source": []
  }
 ],
 "metadata": {
  "kernelspec": {
   "display_name": "Python 3",
   "language": "python",
   "name": "python3"
  },
  "language_info": {
   "codemirror_mode": {
    "name": "ipython",
    "version": 3
   },
   "file_extension": ".py",
   "mimetype": "text/x-python",
   "name": "python",
   "nbconvert_exporter": "python",
   "pygments_lexer": "ipython3",
   "version": "3.7.6"
  }
 },
 "nbformat": 4,
 "nbformat_minor": 4
}
