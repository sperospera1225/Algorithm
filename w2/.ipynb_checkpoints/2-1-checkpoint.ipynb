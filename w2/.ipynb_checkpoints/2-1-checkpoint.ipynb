{
 "cells": [
  {
   "cell_type": "code",
   "execution_count": null,
   "metadata": {},
   "outputs": [],
   "source": [
    "# 1)  행렬 회전 :  NxN 행렬이 있다. 이 행렬을 오른쪽으로 90도, 180도, 270도 회전시키는 코드를 작성하라.\n",
    "\n",
    "def rotate_90(m):\n",
    "    matrix_a = [[0]*len(m) for _ in range(len(m))]\n",
    "    # [[0]*len(m)]*len(m)을 쓰며는 대입연산시 얕은복사로 인한 모든열이 바뀜\n",
    "    # for문을 활용하자\n",
    "    for i in range(len(m)):\n",
    "        for j in range(len(m)):\n",
    "            # print(m[i][j], j, len(m)-1-i)\n",
    "            matrix_a[j][len(m)-1-i] = m[i][j]\n",
    "    return matrix_a\n",
    "\n",
    "def rotate_180(m):\n",
    "    matrix_b = [[0] * len(m) for _ in range(len(m))]\n",
    "    for i in range(len(m)):\n",
    "        for j in range(len(m)):\n",
    "            matrix_b[len(m) - 1 - i][len(m) - 1 - j] = m[i][j]\n",
    "    return matrix_b\n",
    "\n",
    "def rotate_270(m):\n",
    "    matrix_c = [[0] * len(m) for _ in range(len(m))]\n",
    "    for i in range(len(m)):\n",
    "        for j in range(len(m)):\n",
    "            matrix_c[len(m) - 1 - j][i] = m[i][j]\n",
    "    return matrix_c\n",
    "\n",
    "if __name__=='__main__':\n",
    "    n = int(input())\n",
    "    field = [[int(x) for x in input().split()] for i in range(n)]\n",
    "    print(rotate_90(field))\n",
    "    print(rotate_180(field))\n",
    "    print(rotate_270(field))"
   ]
  }
 ],
 "metadata": {
  "kernelspec": {
   "display_name": "Python 3",
   "language": "python",
   "name": "python3"
  },
  "language_info": {
   "codemirror_mode": {
    "name": "ipython",
    "version": 3
   },
   "file_extension": ".py",
   "mimetype": "text/x-python",
   "name": "python",
   "nbconvert_exporter": "python",
   "pygments_lexer": "ipython3",
   "version": "3.7.6"
  }
 },
 "nbformat": 4,
 "nbformat_minor": 4
}
