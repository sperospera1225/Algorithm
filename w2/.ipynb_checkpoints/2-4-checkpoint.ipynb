{
 "cells": [
  {
   "cell_type": "code",
   "execution_count": 1,
   "metadata": {},
   "outputs": [
    {
     "name": "stdout",
     "output_type": "stream",
     "text": [
      "2\n",
      "2\n"
     ]
    }
   ],
   "source": [
    "# 4) https://leetcode.com/explore/learn/card/fun-with-arrays/523/conclusion/3231/\n",
    "\n",
    "'''\n",
    "Given integer array nums, return the third maximum number in this array. If the third maximum does not exist, return the maximum number.\n",
    "'''\n",
    "class Solution:\n",
    "    def thirdMax(self, nums) -> int:\n",
    "        nums = list(set(nums)) \n",
    "        nums = list(sorted(nums, reverse=True)) \n",
    "        if len(nums) < 3: \n",
    "            answer = nums[0] \n",
    "        else: \n",
    "            answer = nums[2] \n",
    "        return answer\n",
    "\n",
    "import heapq\n",
    "class Solution2:\n",
    "    def thirdMax(self, nums) -> int:\n",
    "        q = []\n",
    "        result = 0\n",
    "        \n",
    "        for num in nums:\n",
    "            if -num not in q:\n",
    "                heapq.heappush(q, -num)\n",
    "        \n",
    "        if len(q) < 3:\n",
    "            temp = [-num for num in q]\n",
    "            return max(temp)\n",
    "        \n",
    "        for _ in range(3):\n",
    "            result = heapq.heappop(q)\n",
    "        return -result\n",
    "    \n",
    "if __name__=='__main__':\n",
    "    s = Solution()\n",
    "    print(s.thirdMax([1,2,5,8]))\n",
    "    s = Solution2()\n",
    "    print(s.thirdMax([1,2,5,8]))"
   ]
  },
  {
   "cell_type": "code",
   "execution_count": null,
   "metadata": {},
   "outputs": [],
   "source": []
  }
 ],
 "metadata": {
  "kernelspec": {
   "display_name": "Python 3",
   "language": "python",
   "name": "python3"
  },
  "language_info": {
   "codemirror_mode": {
    "name": "ipython",
    "version": 3
   },
   "file_extension": ".py",
   "mimetype": "text/x-python",
   "name": "python",
   "nbconvert_exporter": "python",
   "pygments_lexer": "ipython3",
   "version": "3.7.6"
  }
 },
 "nbformat": 4,
 "nbformat_minor": 4
}
