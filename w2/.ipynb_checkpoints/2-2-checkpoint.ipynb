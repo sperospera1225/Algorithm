{
 "cells": [
  {
   "cell_type": "code",
   "execution_count": 3,
   "metadata": {},
   "outputs": [
    {
     "name": "stdout",
     "output_type": "stream",
     "text": [
      "sting ingst\n",
      "True\n"
     ]
    }
   ],
   "source": [
    "# 2)  문자열 회전 : 한 단어가 다른 문자열에 포함되어 있는지 판별하는 isSubstring이라는 메서드가 있다고 치자. s1 과 s2 두 문자열이 주어지고, s2가 s1을 회전시킨 결과인지 판별하고자 한다.\n",
    "# ex) ‘waterbottle’ 은 ‘erbottlewat’ 을 회전시켜서 얻을 수 있는 문자열이다.\n",
    "\n",
    "def string_rotation(s1, s2):\n",
    "    if (len(s1) == len(s2) and len(s1)>0):\n",
    "        s2s2 = s2+s2\n",
    "        if s2s2.find(s1) >= 0:\n",
    "            return True\n",
    "        else:\n",
    "            return False\n",
    "    else:\n",
    "        return False\n",
    "\n",
    "if __name__=='__main__':\n",
    "    s1_input, s2_input = map(str,input().split(' '))\n",
    "    r = string_rotation(s1_input, s2_input)\n",
    "    print(r)"
   ]
  },
  {
   "cell_type": "code",
   "execution_count": null,
   "metadata": {},
   "outputs": [],
   "source": []
  }
 ],
 "metadata": {
  "kernelspec": {
   "display_name": "Python 3",
   "language": "python",
   "name": "python3"
  },
  "language_info": {
   "codemirror_mode": {
    "name": "ipython",
    "version": 3
   },
   "file_extension": ".py",
   "mimetype": "text/x-python",
   "name": "python",
   "nbconvert_exporter": "python",
   "pygments_lexer": "ipython3",
   "version": "3.7.6"
  }
 },
 "nbformat": 4,
 "nbformat_minor": 4
}
