{
 "cells": [
  {
   "cell_type": "code",
   "execution_count": null,
   "metadata": {},
   "outputs": [],
   "source": [
    "# #1) 중복이 없는가 : 문자열이 주어졌을 때, 이 문자열에 같은 문자가 중복되어 등장하는지 확인하는 알고리즘. (자료구조를 추가로 사용하지않고 풀 수 있는 알고리즘도 고민)\n",
    "\n",
    "def solution_1(s):\n",
    "    temp = []\n",
    "    for c in s:\n",
    "        if c in temp:\n",
    "            return False\n",
    "        else:\n",
    "            temp.append(c)\n",
    "    return True\n",
    "\n",
    "def solution_2(s):\n",
    "    sorted_s = s.sort()\n",
    "    for i in range(1, len(s)):\n",
    "        if sorted_s[i-1] == sorted_s[i]:\n",
    "            return False\n",
    "    return True\n",
    "\n",
    "def solution_3(s):\n",
    "    for i in range(len(s)):\n",
    "        for j in range(i+1, len(s)):\n",
    "            if s[i] == s[j]:\n",
    "                return False\n",
    "    return True\n",
    "    \n",
    "def solution_4(s):\n",
    "    duplicated_list = []\n",
    "    for i in range(len(s)):\n",
    "        duplicated_list.append(s[i])\n",
    "    duplicated_set = set(duplicated_list)\n",
    "    if len(duplicate_set) == len(duplicated_list)\n",
    "        return True\n",
    "    else:\n",
    "        return False\n",
    "    \n",
    "if __name__ == \"__main__\":\n",
    "    s = input()\n",
    "    result = solution_3(s)\n",
    "    print(result)\n",
    "    pass"
   ]
  }
 ],
 "metadata": {
  "kernelspec": {
   "display_name": "Python 3",
   "language": "python",
   "name": "python3"
  },
  "language_info": {
   "codemirror_mode": {
    "name": "ipython",
    "version": 3
   },
   "file_extension": ".py",
   "mimetype": "text/x-python",
   "name": "python",
   "nbconvert_exporter": "python",
   "pygments_lexer": "ipython3",
   "version": "3.7.6"
  }
 },
 "nbformat": 4,
 "nbformat_minor": 4
}
