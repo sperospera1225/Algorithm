{
 "cells": [
  {
   "cell_type": "code",
   "execution_count": 7,
   "metadata": {},
   "outputs": [
    {
     "name": "stdout",
     "output_type": "stream",
     "text": [
      "True\n"
     ]
    }
   ],
   "source": [
    "#  4) 하나 빼기 : 문자열을 편집하는 방법 세 가지 \n",
    "# 1) 문자 삽입, 2) 문자 삭제, 3) 문자 교체. \n",
    "# 문자열 두 개가 주어졌을 때, 문자열을 같게 만들기 위한 편집 횟수가 1회 이내인지 확인하는 함수를 작성하라,\n",
    "#             ex)   pale, ple -> true\n",
    "#                   pales, pale -> true\n",
    "#                   pale, bale -> true\n",
    "#                   pale, bake -> false\n",
    "\n",
    "def insert(s1, s2): # len(s1) > len(s2)\n",
    "    # 한번 까지는 다른것 허용해주어야함 (i+=1)\n",
    "    i, j = 0, 0\n",
    "    flag = True\n",
    "    while (i<len(s1) and j < len(s2)):\n",
    "        if s1[i] != s2[j]:\n",
    "            if not flag:\n",
    "                return False\n",
    "            i += 1\n",
    "            flag = False\n",
    "        else:\n",
    "            i += 1\n",
    "            j += 1\n",
    "    return True\n",
    "    \n",
    "def replace(s1, s2):\n",
    "# 한번 까지는 다른것 허용해주어야함\n",
    "    flag = True\n",
    "    for c1, c2 in zip(s1, s2):\n",
    "        if c1 != c2:\n",
    "            if not flag:\n",
    "                return False\n",
    "            flag = False\n",
    "    return True\n",
    "\n",
    "\n",
    "\n",
    "def solution(s1, s2):\n",
    "    n_a = len(s1)\n",
    "    n_b = len(s2)\n",
    "    \n",
    "    if n_a == n_b:\n",
    "        return replace(s1, s2)\n",
    "    elif n_a - n_b == 1:\n",
    "        return insert(s1, s2)\n",
    "    elif n_a - n_b == -1:\n",
    "        return insert(s2, s1)\n",
    "    return False\n",
    "\n",
    "if __name__ == \"__main__\":\n",
    "    print(solution(\"bale\", \"bae\"))\n"
   ]
  },
  {
   "cell_type": "code",
   "execution_count": null,
   "metadata": {},
   "outputs": [],
   "source": []
  }
 ],
 "metadata": {
  "kernelspec": {
   "display_name": "Python 3",
   "language": "python",
   "name": "python3"
  },
  "language_info": {
   "codemirror_mode": {
    "name": "ipython",
    "version": 3
   },
   "file_extension": ".py",
   "mimetype": "text/x-python",
   "name": "python",
   "nbconvert_exporter": "python",
   "pygments_lexer": "ipython3",
   "version": "3.7.6"
  }
 },
 "nbformat": 4,
 "nbformat_minor": 4
}
