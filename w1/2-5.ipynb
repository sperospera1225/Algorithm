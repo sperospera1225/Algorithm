{
 "cells": [
  {
   "cell_type": "code",
   "execution_count": null,
   "metadata": {},
   "outputs": [],
   "source": [
    "# 5) 문자열 압축 : 반복되는 문자의 개수를 세는 방식의 기본적인 문자열 압축 메서드를 작성하라. \n",
    "# 예를 들어, 문자열 aabccccaaa 압축하면 a2b1c5a3이 된다. \n",
    "#만약 압축한 문자열의 길이가 기존 문자열의 길이보다 길다면 기존 문자열을 반환해야 한다. 문자열은 a-z 으로만 이루어져있다.\n",
    "def solution_1(string):\n",
    "    tmp = string[0]\n",
    "    cnt = 1\n",
    "    rst_string = \"\"\n",
    "    for i in range(1, len(string)):\n",
    "        if string[i-1]==string[i]:\n",
    "            cnt += 1\n",
    "        else:\n",
    "            rst_string += tmp+str(cnt)\n",
    "            cnt = 1\n",
    "            tmp = string[i]\n",
    "    rst_string += tmp+str(cnt)\n",
    "    return rst_string\n",
    "if __name__ == \"__main__\":\n",
    "    s = input()\n",
    "    print(solution_1(s))\n",
    "    # print(solution_2(s))    "
   ]
  },
  {
   "cell_type": "code",
   "execution_count": null,
   "metadata": {},
   "outputs": [],
   "source": []
  }
 ],
 "metadata": {
  "kernelspec": {
   "display_name": "Python 3",
   "language": "python",
   "name": "python3"
  },
  "language_info": {
   "codemirror_mode": {
    "name": "ipython",
    "version": 3
   },
   "file_extension": ".py",
   "mimetype": "text/x-python",
   "name": "python",
   "nbconvert_exporter": "python",
   "pygments_lexer": "ipython3",
   "version": "3.7.6"
  }
 },
 "nbformat": 4,
 "nbformat_minor": 4
}
