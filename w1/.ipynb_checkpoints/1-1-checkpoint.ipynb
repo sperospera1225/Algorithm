{
 "cells": [
  {
   "cell_type": "code",
   "execution_count": 12,
   "metadata": {},
   "outputs": [
    {
     "name": "stdout",
     "output_type": "stream",
     "text": [
      "100\n"
     ]
    }
   ],
   "source": [
    "class Solution:\n",
    "    def maxAscendingSum(self, nums) -> int:\n",
    "        tmp = nums[0]\n",
    "        result = 0\n",
    "        for i in range(1, len(nums)):\n",
    "            if nums[i-1] <= nums[i]:\n",
    "                tmp += nums[i]\n",
    "            else:\n",
    "                result = max(result, tmp)\n",
    "                tmp = nums[i]\n",
    "        result = max(result, tmp)\n",
    "        return result\n",
    "if __name__ == \"__main__\":\n",
    "    s = Solution()\n",
    "    r = s.maxAscendingSum([100,10,1])\n",
    "    print(r)"
   ]
  },
  {
   "cell_type": "code",
   "execution_count": null,
   "metadata": {},
   "outputs": [],
   "source": [
    "## Another Solution\n",
    "\n",
    "class Solution:\n",
    "    def maxAscendingSum(self, nums: List[int]) -> int:\n",
    "        \n",
    "        n = len(nums)\n",
    "        sum_v = nums[0]\n",
    "        max_v = sum_v\n",
    "\n",
    "        for i in range(1, n):\n",
    "            if nums[i-1] < nums[i]:\n",
    "                sum_v += nums[i]\n",
    "            else:\n",
    "                sum_v = nums[i]\n",
    "            max_v = max(max_v, sum_v)\n",
    "        return max_v"
   ]
  }
 ],
 "metadata": {
  "kernelspec": {
   "display_name": "Python 3",
   "language": "python",
   "name": "python3"
  },
  "language_info": {
   "codemirror_mode": {
    "name": "ipython",
    "version": 3
   },
   "file_extension": ".py",
   "mimetype": "text/x-python",
   "name": "python",
   "nbconvert_exporter": "python",
   "pygments_lexer": "ipython3",
   "version": "3.7.6"
  }
 },
 "nbformat": 4,
 "nbformat_minor": 4
}
