{
 "cells": [
  {
   "cell_type": "code",
   "execution_count": null,
   "metadata": {},
   "outputs": [],
   "source": [
    "# # # 3) 회문 수열 : 주어진 문자열이 회문(palindrome)의 순열인지 아닌지 확인하는 함수를 작성하라. 회문이란 앞으로 읽으나 뒤로 읽으나 같은 단어 혹은 구절을 의미하며, 순열이란 문자열을 재배치하는 것을 뜻한다.\n",
    "\n",
    "def solution_1(s):\n",
    "    s_dict= {}\n",
    "    for c in s:\n",
    "        if c not in s_dict:\n",
    "            s_dict[c] = 1\n",
    "        else:\n",
    "            s_dict[c] += 1\n",
    "        \n",
    "    temp = 0\n",
    "    for v in s_dict.values():\n",
    "        if v%2 != 0:\n",
    "            temp += 1\n",
    "            if temp > 1:\n",
    "                return False\n",
    "    return True\n",
    "\n",
    "if __name__ == \"__main__\":\n",
    "    word = input()\n",
    "    print(solution_1(word))\n",
    "    "
   ]
  }
 ],
 "metadata": {
  "kernelspec": {
   "display_name": "Python 3",
   "language": "python",
   "name": "python3"
  },
  "language_info": {
   "codemirror_mode": {
    "name": "ipython",
    "version": 3
   },
   "file_extension": ".py",
   "mimetype": "text/x-python",
   "name": "python",
   "nbconvert_exporter": "python",
   "pygments_lexer": "ipython3",
   "version": "3.7.6"
  }
 },
 "nbformat": 4,
 "nbformat_minor": 4
}
