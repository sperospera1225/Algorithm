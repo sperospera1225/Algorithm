{
 "cells": [
  {
   "cell_type": "code",
   "execution_count": null,
   "metadata": {},
   "outputs": [],
   "source": [
    "# # #2) 순열 확인 : 문자열 두 개가 주어졌을 때 이 둘이 서로 순열 관계에 있는지 확인하는 메서드를 작성하라.\n",
    "\n",
    "def solution_1(s1, s2):\n",
    "    if len(s1) != len(s2):\n",
    "        return False\n",
    "    return sorted(s1) == sorted(s2)\n",
    "\n",
    "def solution_2(s1, s2):\n",
    "    if len(s1) != len(s2):\n",
    "        return False\n",
    "    c_dict = {}\n",
    "    \n",
    "    for c1 in s1:\n",
    "        if c1 not in c_dict:\n",
    "            c_dict[c1] = 1\n",
    "        else:\n",
    "            c_dict[c2] += 1\n",
    "    \n",
    "    for c2 in s2:\n",
    "        if c2 not in c_dict:\n",
    "            return False\n",
    "        else:\n",
    "            c_dict[c2] -= 1\n",
    "        \n",
    "    return True if not any(c_dict.values()) else False\n",
    "\n",
    "if __name__ == \"__main__\":\n",
    "    print(solution_2(\"dpg\", \"sdp\"))\n",
    "    pass"
   ]
  }
 ],
 "metadata": {
  "kernelspec": {
   "display_name": "Python 3",
   "language": "python",
   "name": "python3"
  },
  "language_info": {
   "codemirror_mode": {
    "name": "ipython",
    "version": 3
   },
   "file_extension": ".py",
   "mimetype": "text/x-python",
   "name": "python",
   "nbconvert_exporter": "python",
   "pygments_lexer": "ipython3",
   "version": "3.7.6"
  }
 },
 "nbformat": 4,
 "nbformat_minor": 4
}
